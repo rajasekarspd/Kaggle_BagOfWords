{
 "cells": [
  {
   "cell_type": "markdown",
   "metadata": {},
   "source": [
    "## <center> Sentiment Analysis on Movie Reviews"
   ]
  },
  {
   "cell_type": "code",
   "execution_count": 2,
   "metadata": {},
   "outputs": [],
   "source": [
    "#Import packages\n",
    "import pandas as pd\n",
    "import numpy as np\n",
    "import matplotlib.pyplot as plt\n",
    "from matplotlib import gridspec\n",
    "%matplotlib inline\n",
    "import seaborn as sb\n",
    "\n",
    "#Text Processing Packages\n",
    "import re\n",
    "import bs4\n",
    "from bs4 import BeautifulSoup as bs\n",
    "\n",
    "#NLP packages\n",
    "import nltk\n",
    "# nltk.download('stopwords')\n",
    "from nltk.corpus import stopwords\n",
    "stop_words = stopwords.words('english')\n",
    "# nltk.download('wordnet')\n",
    "from nltk.stem import WordNetLemmatizer\n",
    "\n",
    "#Model packages\n",
    "import keras\n",
    "from keras.models import Sequential\n",
    "from keras.layers import Dense, GlobalMaxPooling1D, Bidirectional, LSTM, Embedding, Dropout\n",
    "from keras.preprocessing.text import Tokenizer\n",
    "from sklearn.metrics import accuracy_score, f1_score, roc_curve, roc_auc_score\n",
    "import gensim\n",
    "from gensim.models import Word2Vec, Phrases\n",
    "from keras.callbacks import ModelCheckpoint"
   ]
  },
  {
   "cell_type": "code",
   "execution_count": 3,
   "metadata": {},
   "outputs": [],
   "source": [
    "#Filter Warnings\n",
    "import warnings\n",
    "warnings.filterwarnings('ignore')"
   ]
  },
  {
   "cell_type": "code",
   "execution_count": 4,
   "metadata": {},
   "outputs": [
    {
     "data": {
      "text/html": [
       "<div>\n",
       "<style scoped>\n",
       "    .dataframe tbody tr th:only-of-type {\n",
       "        vertical-align: middle;\n",
       "    }\n",
       "\n",
       "    .dataframe tbody tr th {\n",
       "        vertical-align: top;\n",
       "    }\n",
       "\n",
       "    .dataframe thead th {\n",
       "        text-align: right;\n",
       "    }\n",
       "</style>\n",
       "<table border=\"1\" class=\"dataframe\">\n",
       "  <thead>\n",
       "    <tr style=\"text-align: right;\">\n",
       "      <th></th>\n",
       "      <th>id</th>\n",
       "      <th>sentiment</th>\n",
       "      <th>review</th>\n",
       "    </tr>\n",
       "  </thead>\n",
       "  <tbody>\n",
       "    <tr>\n",
       "      <td>0</td>\n",
       "      <td>5814_8</td>\n",
       "      <td>1</td>\n",
       "      <td>With all this stuff going down at the moment w...</td>\n",
       "    </tr>\n",
       "    <tr>\n",
       "      <td>1</td>\n",
       "      <td>2381_9</td>\n",
       "      <td>1</td>\n",
       "      <td>\\The Classic War of the Worlds\\\" by Timothy Hi...</td>\n",
       "    </tr>\n",
       "    <tr>\n",
       "      <td>2</td>\n",
       "      <td>7759_3</td>\n",
       "      <td>0</td>\n",
       "      <td>The film starts with a manager (Nicholas Bell)...</td>\n",
       "    </tr>\n",
       "    <tr>\n",
       "      <td>3</td>\n",
       "      <td>3630_4</td>\n",
       "      <td>0</td>\n",
       "      <td>It must be assumed that those who praised this...</td>\n",
       "    </tr>\n",
       "    <tr>\n",
       "      <td>4</td>\n",
       "      <td>9495_8</td>\n",
       "      <td>1</td>\n",
       "      <td>Superbly trashy and wondrously unpretentious 8...</td>\n",
       "    </tr>\n",
       "  </tbody>\n",
       "</table>\n",
       "</div>"
      ],
      "text/plain": [
       "       id  sentiment                                             review\n",
       "0  5814_8          1  With all this stuff going down at the moment w...\n",
       "1  2381_9          1  \\The Classic War of the Worlds\\\" by Timothy Hi...\n",
       "2  7759_3          0  The film starts with a manager (Nicholas Bell)...\n",
       "3  3630_4          0  It must be assumed that those who praised this...\n",
       "4  9495_8          1  Superbly trashy and wondrously unpretentious 8..."
      ]
     },
     "execution_count": 4,
     "metadata": {},
     "output_type": "execute_result"
    }
   ],
   "source": [
    "#Read dataset\n",
    "df_train = pd.read_csv('data/LabeledTrainData.tsv', delimiter='\\t')\n",
    "df_train.head()"
   ]
  },
  {
   "cell_type": "code",
   "execution_count": 5,
   "metadata": {},
   "outputs": [
    {
     "data": {
      "text/html": [
       "<div>\n",
       "<style scoped>\n",
       "    .dataframe tbody tr th:only-of-type {\n",
       "        vertical-align: middle;\n",
       "    }\n",
       "\n",
       "    .dataframe tbody tr th {\n",
       "        vertical-align: top;\n",
       "    }\n",
       "\n",
       "    .dataframe thead th {\n",
       "        text-align: right;\n",
       "    }\n",
       "</style>\n",
       "<table border=\"1\" class=\"dataframe\">\n",
       "  <thead>\n",
       "    <tr style=\"text-align: right;\">\n",
       "      <th></th>\n",
       "      <th>id</th>\n",
       "      <th>review</th>\n",
       "    </tr>\n",
       "  </thead>\n",
       "  <tbody>\n",
       "    <tr>\n",
       "      <td>0</td>\n",
       "      <td>12311_10</td>\n",
       "      <td>Naturally in a film who's main themes are of m...</td>\n",
       "    </tr>\n",
       "    <tr>\n",
       "      <td>1</td>\n",
       "      <td>8348_2</td>\n",
       "      <td>This movie is a disaster within a disaster fil...</td>\n",
       "    </tr>\n",
       "    <tr>\n",
       "      <td>2</td>\n",
       "      <td>5828_4</td>\n",
       "      <td>All in all, this is a movie for kids. We saw i...</td>\n",
       "    </tr>\n",
       "    <tr>\n",
       "      <td>3</td>\n",
       "      <td>7186_2</td>\n",
       "      <td>Afraid of the Dark left me with the impression...</td>\n",
       "    </tr>\n",
       "    <tr>\n",
       "      <td>4</td>\n",
       "      <td>12128_7</td>\n",
       "      <td>A very accurate depiction of small time mob li...</td>\n",
       "    </tr>\n",
       "  </tbody>\n",
       "</table>\n",
       "</div>"
      ],
      "text/plain": [
       "         id                                             review\n",
       "0  12311_10  Naturally in a film who's main themes are of m...\n",
       "1    8348_2  This movie is a disaster within a disaster fil...\n",
       "2    5828_4  All in all, this is a movie for kids. We saw i...\n",
       "3    7186_2  Afraid of the Dark left me with the impression...\n",
       "4   12128_7  A very accurate depiction of small time mob li..."
      ]
     },
     "execution_count": 5,
     "metadata": {},
     "output_type": "execute_result"
    }
   ],
   "source": [
    "#Read test dataset\n",
    "df_test = pd.read_csv('data/testData.tsv', delimiter='\\t')\n",
    "df_test.head()"
   ]
  },
  {
   "cell_type": "code",
   "execution_count": 6,
   "metadata": {},
   "outputs": [
    {
     "data": {
      "text/plain": [
       "((25000, 3), (25000, 2))"
      ]
     },
     "execution_count": 6,
     "metadata": {},
     "output_type": "execute_result"
    }
   ],
   "source": [
    "df_train.shape, df_test.shape"
   ]
  },
  {
   "cell_type": "code",
   "execution_count": 7,
   "metadata": {},
   "outputs": [],
   "source": [
    "#Let's backup both dataset\n",
    "df_train_copy = df_train.copy()\n",
    "df_test_copy = df_test.copy()"
   ]
  },
  {
   "cell_type": "code",
   "execution_count": 8,
   "metadata": {},
   "outputs": [],
   "source": [
    "#Let's create a function to clean the data\n",
    "def clean_text(text):\n",
    "    #Steps - convert to lower, remove non-words, remove digits, remove single letters, remove spaces, remove stopwords\n",
    "    text = bs(text, 'lxml').get_text() #remove html tags\n",
    "    text = text.lower()\n",
    "    text = re.sub('\\W', ' ', text)\n",
    "    text = re.sub('\\d+', ' ', text)\n",
    "    text = re.sub('\\s+[a-z]\\s+', ' ', text)\n",
    "    text = re.sub('\\s+', ' ', text)\n",
    "    text = re.sub('^\\s','', text) #Remove space from beginning of text\n",
    "    text = re.sub('\\s$','', text) #Remove space from end of text    \n",
    "    text = text.split(' ')\n",
    "    text = [word for word in text if word not in stop_words]\n",
    "    text = [WordNetLemmatizer().lemmatize(word) for word in text] #additional lemmatize the words\n",
    "    text = ' '.join(text)\n",
    "    return text"
   ]
  },
  {
   "cell_type": "code",
   "execution_count": 9,
   "metadata": {},
   "outputs": [
    {
     "data": {
      "text/plain": [
       "\"With all this stuff going down at the moment with MJ i've started listening to his music, watching the odd documentary here and there, watched The Wiz and watched Moonwalker again. Maybe i just want to get a certain insight into this guy who i thought was really cool in the eighties just to maybe make up my mind whether he is guilty or innocent. Moonwalker is part biography, part feature film which i remember going to see at the cinema when it was originally released. Some of it has subtle messages about MJ's feeling towards the press and also the obvious message of drugs are bad m'kay.<br /><br />Visually impressive but of course this is all about Michael Jackson so unless you remotely like MJ in anyway then you are going to hate this and find it boring. Some may call MJ an egotist for consenting to the making of this movie BUT MJ and most of his fans would say that he made it for the fans which if true is really nice of him.<br /><br />The actual feature film bit when it finally starts is only on for 20 minutes or so excluding the Smooth Criminal sequence and Joe Pesci is convincing as a psychopathic all powerful drug lord. Why he wants MJ dead so bad is beyond me. Because MJ overheard his plans? Nah, Joe Pesci's character ranted that he wanted people to know it is he who is supplying drugs etc so i dunno, maybe he just hates MJ's music.<br /><br />Lots of cool things in this like MJ turning into a car and a robot and the whole Speed Demon sequence. Also, the director must have had the patience of a saint when it came to filming the kiddy Bad sequence as usually directors hate working with one kid let alone a whole bunch of them performing a complex dance scene.<br /><br />Bottom line, this movie is for people who like MJ on one level or another (which i think is most people). If not, then stay away. It does try and give off a wholesome message and ironically MJ's bestest buddy in this movie is a girl! Michael Jackson is truly one of the most talented people ever to grace this planet but is he guilty? Well, with all the attention i've gave this subject....hmmm well i don't know because people can be different behind closed doors, i know this for a fact. He is either an extremely nice but stupid guy or one of the most sickest liars. I hope he is not the latter.\""
      ]
     },
     "execution_count": 9,
     "metadata": {},
     "output_type": "execute_result"
    }
   ],
   "source": [
    "#Let's test the clean text function\n",
    "temp = df_train.loc[0,'review']\n",
    "temp"
   ]
  },
  {
   "cell_type": "code",
   "execution_count": 10,
   "metadata": {},
   "outputs": [
    {
     "data": {
      "text/plain": [
       "'stuff going moment mj started listening music watching odd documentary watched wiz watched moonwalker maybe want get certain insight guy thought really cool eighty maybe make mind whether guilty innocent moonwalker part biography part feature film remember going see cinema originally released subtle message mj feeling towards press also obvious message drug bad kay visually impressive course michael jackson unless remotely like mj anyway going hate find boring may call mj egotist consenting making movie mj fan would say made fan true really nice actual feature film bit finally start minute excluding smooth criminal sequence joe pesci convincing psychopathic powerful drug lord want mj dead bad beyond mj overheard plan nah joe pesci character ranted wanted people know supplying drug etc dunno maybe hate mj music lot cool thing like mj turning car robot whole speed demon sequence also director must patience saint came filming kiddy bad sequence usually director hate working one kid let alone whole bunch performing complex dance scene bottom line movie people like mj one level another think people stay away try give wholesome message ironically mj bestest buddy movie girl michael jackson truly one talented people ever grace planet guilty well attention gave subject hmmm well know people different behind closed door know fact either extremely nice stupid guy one sickest liar hope latter'"
      ]
     },
     "execution_count": 10,
     "metadata": {},
     "output_type": "execute_result"
    }
   ],
   "source": [
    "clean_text(temp)"
   ]
  },
  {
   "cell_type": "code",
   "execution_count": 11,
   "metadata": {},
   "outputs": [
    {
     "data": {
      "text/plain": [
       "0    stuff going moment mj started listening music ...\n",
       "1    classic war world timothy hines entertaining f...\n",
       "2    film start manager nicholas bell giving welcom...\n",
       "3    must assumed praised film greatest filmed oper...\n",
       "4    superbly trashy wondrously unpretentious explo...\n",
       "Name: cleaned_review, dtype: object"
      ]
     },
     "execution_count": 11,
     "metadata": {},
     "output_type": "execute_result"
    }
   ],
   "source": [
    "#Lets process all the review in train\n",
    "df_train['cleaned_review'] = df_train['review'].apply(lambda x: clean_text(x))\n",
    "df_train['cleaned_review'].head(3)"
   ]
  },
  {
   "cell_type": "code",
   "execution_count": 12,
   "metadata": {},
   "outputs": [
    {
     "data": {
      "text/plain": [
       "0    naturally film main theme mortality nostalgia ...\n",
       "1    movie disaster within disaster film full great...\n",
       "2    movie kid saw tonight child loved one point ki...\n",
       "3    afraid dark left impression several different ...\n",
       "4    accurate depiction small time mob life filmed ...\n",
       "Name: cleaned_review, dtype: object"
      ]
     },
     "execution_count": 12,
     "metadata": {},
     "output_type": "execute_result"
    }
   ],
   "source": [
    "#Clean test dataset reviews\n",
    "df_test['cleaned_review'] = df_test['review'].apply(lambda x: clean_text(x))\n",
    "df_test['cleaned_review'].head(3)"
   ]
  },
  {
   "cell_type": "markdown",
   "metadata": {},
   "source": [
    "### Building Word Vector"
   ]
  },
  {
   "cell_type": "code",
   "execution_count": 13,
   "metadata": {},
   "outputs": [],
   "source": [
    "#Preprocessing data to input into wordvector\n",
    "corpus_train = [review.split(' ') for review in df_train['cleaned_review']]"
   ]
  },
  {
   "cell_type": "markdown",
   "metadata": {},
   "source": [
    "#### Function to review Word Vectors"
   ]
  },
  {
   "cell_type": "code",
   "execution_count": 14,
   "metadata": {},
   "outputs": [],
   "source": [
    "def review_wv(WVector):\n",
    "    lvocab = len(WVector.wv.vocab) #Let's check the vocabulary length\n",
    "    print('\\tLength of Vocabulary:',lvocab)\n",
    "    \n",
    "    #Word similarity test\n",
    "    ta = WVector.wv.similarity('terrible', 'awesome')\n",
    "    print('\\tSimilarity between terrible, awesome:', ta*100)\n",
    "    \n",
    "    bg = WVector.wv.similarity('boy', 'girl')\n",
    "    print('\\tSimilarity between boy, girl:', bg*100)\n",
    "    \n",
    "    gb = WVector.wv.similarity('good', 'bad')\n",
    "    print('\\tSimilarity between good, bad:', gb*100)\n",
    "    \n",
    "    #Get similar words from wordvector\n",
    "    test_words = ['good', 'bad', 'great']\n",
    "    #Define subplots and layout\n",
    "    plt.subplots(figsize=(20, 6))\n",
    "    grid = plt.GridSpec(1, 3)\n",
    "\n",
    "    for i, eachword in enumerate(test_words):   \n",
    "        sword = WVector.wv.similar_by_word(eachword)\n",
    "\n",
    "        #Define x, y as list\n",
    "        x=[]\n",
    "        y=[]\n",
    "        for eachval in sword[:5]:\n",
    "            x.append(eachval[0])\n",
    "            y.append(round(eachval[1]*100))\n",
    "\n",
    "        #Plot the graph\n",
    "        plt.subplot(grid[0,i])\n",
    "        plt.bar(x = x, height=y)\n",
    "        plt.title('Similar Word for - '+str(eachword))\n",
    "    plt.show();"
   ]
  },
  {
   "cell_type": "markdown",
   "metadata": {},
   "source": [
    "#### Simple Word Vector"
   ]
  },
  {
   "cell_type": "code",
   "execution_count": 15,
   "metadata": {},
   "outputs": [],
   "source": [
    "WordVector = Word2Vec(sentences=corpus_train, min_count=4, size=300)"
   ]
  },
  {
   "cell_type": "code",
   "execution_count": 16,
   "metadata": {},
   "outputs": [
    {
     "name": "stdout",
     "output_type": "stream",
     "text": [
      "\tLength of Vocabulary: 28626\n",
      "\tSimilarity between terrible, awesome: 55.2078902721405\n",
      "\tSimilarity between boy, girl: 84.71958637237549\n",
      "\tSimilarity between good, bad: 64.44664597511292\n"
     ]
    },
    {
     "data": {
      "image/png": "[encoded data removed]",
      "text/plain": [
       "<Figure size 1440x432 with 3 Axes>"
      ]
     },
     "metadata": {
      "needs_background": "light"
     },
     "output_type": "display_data"
    }
   ],
   "source": [
    "review_wv(WordVector)"
   ]
  },
  {
   "cell_type": "code",
   "execution_count": 17,
   "metadata": {},
   "outputs": [],
   "source": [
    "from keras.preprocessing.text import Tokenizer\n",
    "from keras.preprocessing.sequence import pad_sequences"
   ]
  },
  {
   "cell_type": "code",
   "execution_count": 18,
   "metadata": {},
   "outputs": [],
   "source": [
    "tokenizer = Tokenizer(num_words=6000)\n",
    "tokenizer.fit_on_texts(df_train['cleaned_review'])"
   ]
  },
  {
   "cell_type": "code",
   "execution_count": 19,
   "metadata": {},
   "outputs": [],
   "source": [
    "X_train = tokenizer.texts_to_sequences(df_train['cleaned_review'])"
   ]
  },
  {
   "cell_type": "code",
   "execution_count": 20,
   "metadata": {},
   "outputs": [],
   "source": [
    "X_train = pad_sequences(sequences=X_train, maxlen=300, padding='post')"
   ]
  },
  {
   "cell_type": "code",
   "execution_count": 21,
   "metadata": {},
   "outputs": [],
   "source": [
    "y_train = df_train['sentiment']"
   ]
  },
  {
   "cell_type": "code",
   "execution_count": 22,
   "metadata": {},
   "outputs": [],
   "source": [
    "X_test = tokenizer.texts_to_sequences(df_test['cleaned_review'])\n",
    "X_test = pad_sequences(sequences=X_test, maxlen=300, padding='post')"
   ]
  },
  {
   "cell_type": "markdown",
   "metadata": {},
   "source": [
    "### Building Neural Network Model"
   ]
  },
  {
   "cell_type": "code",
   "execution_count": 23,
   "metadata": {
    "scrolled": false
   },
   "outputs": [
    {
     "name": "stdout",
     "output_type": "stream",
     "text": [
      "WARNING:tensorflow:From C:\\Users\\208051\\AppData\\Local\\Continuum\\anaconda3\\lib\\site-packages\\tensorflow\\python\\framework\\op_def_library.py:263: colocate_with (from tensorflow.python.framework.ops) is deprecated and will be removed in a future version.\n",
      "Instructions for updating:\n",
      "Colocations handled automatically by placer.\n",
      "WARNING:tensorflow:From C:\\Users\\208051\\AppData\\Local\\Continuum\\anaconda3\\lib\\site-packages\\keras\\backend\\tensorflow_backend.py:3733: calling dropout (from tensorflow.python.ops.nn_ops) with keep_prob is deprecated and will be removed in a future version.\n",
      "Instructions for updating:\n",
      "Please use `rate` instead of `keep_prob`. Rate should be set to `rate = 1 - keep_prob`.\n",
      "WARNING:tensorflow:From C:\\Users\\208051\\AppData\\Local\\Continuum\\anaconda3\\lib\\site-packages\\tensorflow\\python\\ops\\math_ops.py:3066: to_int32 (from tensorflow.python.ops.math_ops) is deprecated and will be removed in a future version.\n",
      "Instructions for updating:\n",
      "Use tf.cast instead.\n",
      "WARNING:tensorflow:From C:\\Users\\208051\\AppData\\Local\\Continuum\\anaconda3\\lib\\site-packages\\tensorflow\\python\\ops\\math_grad.py:102: div (from tensorflow.python.ops.math_ops) is deprecated and will be removed in a future version.\n",
      "Instructions for updating:\n",
      "Deprecated in favor of operator or tf.math.divide.\n",
      "Train on 17500 samples, validate on 7500 samples\n",
      "Epoch 1/10\n",
      "17500/17500 [==============================] - 199s 11ms/step - loss: 0.5379 - acc: 0.7357 - val_loss: 0.3199 - val_acc: 0.8703\n",
      "\n",
      "Epoch 00001: val_loss improved from inf to 0.31988, saving model to SWordVec_Model.hdf5\n",
      "Epoch 2/10\n",
      "17500/17500 [==============================] - 199s 11ms/step - loss: 0.2697 - acc: 0.8966 - val_loss: 0.3018 - val_acc: 0.8720\n",
      "\n",
      "Epoch 00002: val_loss improved from 0.31988 to 0.30175, saving model to SWordVec_Model.hdf5\n",
      "Epoch 3/10\n",
      "17500/17500 [==============================] - 199s 11ms/step - loss: 0.2005 - acc: 0.9243 - val_loss: 0.3102 - val_acc: 0.8719\n",
      "\n",
      "Epoch 00003: val_loss did not improve from 0.30175\n",
      "Epoch 4/10\n",
      "17500/17500 [==============================] - 202s 12ms/step - loss: 0.1547 - acc: 0.9477 - val_loss: 0.3557 - val_acc: 0.8703\n",
      "\n",
      "Epoch 00004: val_loss did not improve from 0.30175\n",
      "Epoch 5/10\n",
      "17500/17500 [==============================] - 203s 12ms/step - loss: 0.1176 - acc: 0.9621 - val_loss: 0.4019 - val_acc: 0.8687\n",
      "\n",
      "Epoch 00005: val_loss did not improve from 0.30175\n",
      "Epoch 6/10\n",
      "17500/17500 [==============================] - 202s 12ms/step - loss: 0.0911 - acc: 0.9739 - val_loss: 0.4621 - val_acc: 0.8636\n",
      "\n",
      "Epoch 00006: val_loss did not improve from 0.30175\n",
      "Epoch 7/10\n",
      "17500/17500 [==============================] - 204s 12ms/step - loss: 0.0738 - acc: 0.9786 - val_loss: 0.5084 - val_acc: 0.8640\n",
      "\n",
      "Epoch 00007: val_loss did not improve from 0.30175\n",
      "Epoch 8/10\n",
      "17500/17500 [==============================] - 209s 12ms/step - loss: 0.0552 - acc: 0.9853 - val_loss: 0.5446 - val_acc: 0.8599\n",
      "\n",
      "Epoch 00008: val_loss did not improve from 0.30175\n",
      "Epoch 9/10\n",
      "17500/17500 [==============================] - 207s 12ms/step - loss: 0.0427 - acc: 0.9882 - val_loss: 0.6033 - val_acc: 0.8545\n",
      "\n",
      "Epoch 00009: val_loss did not improve from 0.30175\n",
      "Epoch 10/10\n",
      "17500/17500 [==============================] - 209s 12ms/step - loss: 0.0358 - acc: 0.9901 - val_loss: 0.7038 - val_acc: 0.8588\n",
      "\n",
      "Epoch 00010: val_loss did not improve from 0.30175\n"
     ]
    }
   ],
   "source": [
    "#Model using Simple WordVector\n",
    "model = Sequential()\n",
    "model.add(Embedding(6000, 128))\n",
    "model.add(Bidirectional(LSTM(32, recurrent_dropout=0.1, return_sequences=True)))\n",
    "model.add(GlobalMaxPooling1D())\n",
    "model.add(Dense(32, activation='relu'))\n",
    "model.add(Dropout(rate = 0.2))\n",
    "model.add(Dense(1, activation='sigmoid'))\n",
    "checkpointer = ModelCheckpoint(filepath='SWordVec_Model.hdf5', verbose=2, save_best_only=True)\n",
    "model.compile(loss='binary_crossentropy', optimizer='adam', metrics=['accuracy'])\n",
    "\n",
    "#Train the model\n",
    "history = model.fit(X_train, y_train, batch_size=200, epochs=10, validation_split=0.3, callbacks=[checkpointer], verbose=1)\n",
    "# model.fit(X_train, y_train, batch_size=200, epochs=10, validation_split=0.3, )"
   ]
  },
  {
   "cell_type": "code",
   "execution_count": 24,
   "metadata": {},
   "outputs": [
    {
     "name": "stdout",
     "output_type": "stream",
     "text": [
      "Model: \"sequential_1\"\n",
      "_________________________________________________________________\n",
      "Layer (type)                 Output Shape              Param #   \n",
      "=================================================================\n",
      "embedding_1 (Embedding)      (None, None, 128)         768000    \n",
      "_________________________________________________________________\n",
      "bidirectional_1 (Bidirection (None, None, 64)          41216     \n",
      "_________________________________________________________________\n",
      "global_max_pooling1d_1 (Glob (None, 64)                0         \n",
      "_________________________________________________________________\n",
      "dense_1 (Dense)              (None, 32)                2080      \n",
      "_________________________________________________________________\n",
      "dropout_1 (Dropout)          (None, 32)                0         \n",
      "_________________________________________________________________\n",
      "dense_2 (Dense)              (None, 1)                 33        \n",
      "=================================================================\n",
      "Total params: 811,329\n",
      "Trainable params: 811,329\n",
      "Non-trainable params: 0\n",
      "_________________________________________________________________\n"
     ]
    }
   ],
   "source": [
    "model.summary()"
   ]
  },
  {
   "cell_type": "code",
   "execution_count": null,
   "metadata": {},
   "outputs": [],
   "source": []
  },
  {
   "cell_type": "code",
   "execution_count": null,
   "metadata": {},
   "outputs": [
    {
     "name": "stdout",
     "output_type": "stream",
     "text": [
      "Train on 17500 samples, validate on 7500 samples\n",
      "Epoch 1/10\n",
      "17500/17500 [==============================] - 1421s 81ms/step - loss: 0.5227 - acc: 0.7292 - val_loss: 0.4113 - val_acc: 0.8175\n",
      "\n",
      "Epoch 00001: val_loss improved from inf to 0.41133, saving model to SWordVec_Model2.hdf5\n",
      "Epoch 2/10\n",
      "17500/17500 [==============================] - 1450s 83ms/step - loss: 0.3075 - acc: 0.8762 - val_loss: 0.3184 - val_acc: 0.8731\n",
      "\n",
      "Epoch 00002: val_loss improved from 0.41133 to 0.31845, saving model to SWordVec_Model2.hdf5\n",
      "Epoch 3/10\n",
      "17500/17500 [==============================] - 1491s 85ms/step - loss: 0.2252 - acc: 0.9153 - val_loss: 0.3449 - val_acc: 0.8653\n",
      "\n",
      "Epoch 00003: val_loss did not improve from 0.31845\n",
      "Epoch 4/10\n",
      "17500/17500 [==============================] - 1421s 81ms/step - loss: 0.1926 - acc: 0.9278 - val_loss: 0.4142 - val_acc: 0.8693\n",
      "\n",
      "Epoch 00004: val_loss did not improve from 0.31845\n",
      "Epoch 5/10\n",
      "17500/17500 [==============================] - 1407s 80ms/step - loss: 0.1677 - acc: 0.9368 - val_loss: 0.4372 - val_acc: 0.8551\n",
      "\n",
      "Epoch 00005: val_loss did not improve from 0.31845\n",
      "Epoch 6/10\n",
      "14200/17500 [=======================>......] - ETA: 4:18 - loss: 0.1268 - acc: 0.9526"
     ]
    }
   ],
   "source": [
    "#Model version 2\n",
    "model = Sequential()\n",
    "model.add(Embedding(6000, 128))\n",
    "model.add(Bidirectional(LSTM(128, recurrent_dropout=0.1)))\n",
    "model.add(Dropout(0.25))\n",
    "model.add(Dense(64))\n",
    "model.add(Dropout(0.3))\n",
    "model.add(Dense(1, activation='sigmoid'))\n",
    "model.compile(loss='binary_crossentropy', optimizer='adam', metrics=['accuracy'])\n",
    "checkpointer = ModelCheckpoint(filepath='SWordVec_Model2.hdf5', verbose=2, save_best_only=True)\n",
    "\n",
    "#Train the model\n",
    "history = model.fit(X_train, y_train, batch_size=200, epochs=10, validation_split=0.3, callbacks=[checkpointer], verbose=1)"
   ]
  },
  {
   "cell_type": "code",
   "execution_count": null,
   "metadata": {},
   "outputs": [],
   "source": []
  }
 ],
 "metadata": {
  "kernelspec": {
   "display_name": "Python 3",
   "language": "python",
   "name": "python3"
  }
 },
 "nbformat": 4,
 "nbformat_minor": 2
}
