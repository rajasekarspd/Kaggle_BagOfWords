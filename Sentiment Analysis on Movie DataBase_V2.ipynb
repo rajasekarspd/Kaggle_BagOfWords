{
 "cells": [
  {
   "cell_type": "markdown",
   "metadata": {},
   "source": [
    "### <center> Sentiment Analysis on Movie Review"
   ]
  },
  {
   "cell_type": "code",
   "execution_count": 68,
   "metadata": {},
   "outputs": [],
   "source": [
    "#Import packages\n",
    "import pandas as pd\n",
    "import numpy as np\n",
    "import nltk\n",
    "from nltk.stem import WordNetLemmatizer\n",
    "from nltk.corpus import stopwords\n",
    "stop_words = stopwords.words('english')\n",
    "import re\n",
    "\n",
    "import seaborn as sb\n",
    "\n",
    "import keras\n",
    "from keras.preprocessing.text import Tokenizer\n",
    "from keras.preprocessing.sequence import pad_sequences\n",
    "from keras.models import Sequential\n",
    "from keras.layers import Embedding, Dense, Bidirectional, LSTM, GlobalMaxPool1D"
   ]
  },
  {
   "cell_type": "code",
   "execution_count": 2,
   "metadata": {
    "scrolled": true
   },
   "outputs": [
    {
     "data": {
      "text/html": [
       "<div>\n",
       "<style scoped>\n",
       "    .dataframe tbody tr th:only-of-type {\n",
       "        vertical-align: middle;\n",
       "    }\n",
       "\n",
       "    .dataframe tbody tr th {\n",
       "        vertical-align: top;\n",
       "    }\n",
       "\n",
       "    .dataframe thead th {\n",
       "        text-align: right;\n",
       "    }\n",
       "</style>\n",
       "<table border=\"1\" class=\"dataframe\">\n",
       "  <thead>\n",
       "    <tr style=\"text-align: right;\">\n",
       "      <th></th>\n",
       "      <th>id</th>\n",
       "      <th>sentiment</th>\n",
       "      <th>review</th>\n",
       "    </tr>\n",
       "  </thead>\n",
       "  <tbody>\n",
       "    <tr>\n",
       "      <th>0</th>\n",
       "      <td>5814_8</td>\n",
       "      <td>1</td>\n",
       "      <td>With all this stuff going down at the moment w...</td>\n",
       "    </tr>\n",
       "    <tr>\n",
       "      <th>1</th>\n",
       "      <td>2381_9</td>\n",
       "      <td>1</td>\n",
       "      <td>\\The Classic War of the Worlds\\\" by Timothy Hi...</td>\n",
       "    </tr>\n",
       "    <tr>\n",
       "      <th>2</th>\n",
       "      <td>7759_3</td>\n",
       "      <td>0</td>\n",
       "      <td>The film starts with a manager (Nicholas Bell)...</td>\n",
       "    </tr>\n",
       "    <tr>\n",
       "      <th>3</th>\n",
       "      <td>3630_4</td>\n",
       "      <td>0</td>\n",
       "      <td>It must be assumed that those who praised this...</td>\n",
       "    </tr>\n",
       "    <tr>\n",
       "      <th>4</th>\n",
       "      <td>9495_8</td>\n",
       "      <td>1</td>\n",
       "      <td>Superbly trashy and wondrously unpretentious 8...</td>\n",
       "    </tr>\n",
       "  </tbody>\n",
       "</table>\n",
       "</div>"
      ],
      "text/plain": [
       "       id  sentiment                                             review\n",
       "0  5814_8          1  With all this stuff going down at the moment w...\n",
       "1  2381_9          1  \\The Classic War of the Worlds\\\" by Timothy Hi...\n",
       "2  7759_3          0  The film starts with a manager (Nicholas Bell)...\n",
       "3  3630_4          0  It must be assumed that those who praised this...\n",
       "4  9495_8          1  Superbly trashy and wondrously unpretentious 8..."
      ]
     },
     "execution_count": 2,
     "metadata": {},
     "output_type": "execute_result"
    }
   ],
   "source": [
    "#Read dataset\n",
    "df_train = pd.read_csv('data/labeledTrainData.tsv', delimiter='\\t')\n",
    "df_train.head()"
   ]
  },
  {
   "cell_type": "code",
   "execution_count": 9,
   "metadata": {},
   "outputs": [
    {
     "data": {
      "text/html": [
       "<div>\n",
       "<style scoped>\n",
       "    .dataframe tbody tr th:only-of-type {\n",
       "        vertical-align: middle;\n",
       "    }\n",
       "\n",
       "    .dataframe tbody tr th {\n",
       "        vertical-align: top;\n",
       "    }\n",
       "\n",
       "    .dataframe thead th {\n",
       "        text-align: right;\n",
       "    }\n",
       "</style>\n",
       "<table border=\"1\" class=\"dataframe\">\n",
       "  <thead>\n",
       "    <tr style=\"text-align: right;\">\n",
       "      <th></th>\n",
       "      <th>id</th>\n",
       "      <th>review</th>\n",
       "    </tr>\n",
       "  </thead>\n",
       "  <tbody>\n",
       "    <tr>\n",
       "      <th>0</th>\n",
       "      <td>12311_10</td>\n",
       "      <td>Naturally in a film who's main themes are of m...</td>\n",
       "    </tr>\n",
       "    <tr>\n",
       "      <th>1</th>\n",
       "      <td>8348_2</td>\n",
       "      <td>This movie is a disaster within a disaster fil...</td>\n",
       "    </tr>\n",
       "    <tr>\n",
       "      <th>2</th>\n",
       "      <td>5828_4</td>\n",
       "      <td>All in all, this is a movie for kids. We saw i...</td>\n",
       "    </tr>\n",
       "    <tr>\n",
       "      <th>3</th>\n",
       "      <td>7186_2</td>\n",
       "      <td>Afraid of the Dark left me with the impression...</td>\n",
       "    </tr>\n",
       "    <tr>\n",
       "      <th>4</th>\n",
       "      <td>12128_7</td>\n",
       "      <td>A very accurate depiction of small time mob li...</td>\n",
       "    </tr>\n",
       "  </tbody>\n",
       "</table>\n",
       "</div>"
      ],
      "text/plain": [
       "         id                                             review\n",
       "0  12311_10  Naturally in a film who's main themes are of m...\n",
       "1    8348_2  This movie is a disaster within a disaster fil...\n",
       "2    5828_4  All in all, this is a movie for kids. We saw i...\n",
       "3    7186_2  Afraid of the Dark left me with the impression...\n",
       "4   12128_7  A very accurate depiction of small time mob li..."
      ]
     },
     "execution_count": 9,
     "metadata": {},
     "output_type": "execute_result"
    }
   ],
   "source": [
    "#Read test dataset\n",
    "df_test  = pd.read_csv('data/testData.tsv', delimiter='\\t')\n",
    "df_test.head()"
   ]
  },
  {
   "cell_type": "code",
   "execution_count": 5,
   "metadata": {},
   "outputs": [],
   "source": [
    "#Function to clean dataset\n",
    "#Function to clean text\n",
    "def clean_text(input_text):\n",
    "    \"\"\"\n",
    "    Processes the give text and removes all non words, digits, single letters and extra spaces.\n",
    "\n",
    "    Parameters\n",
    "    -----------\n",
    "    1. input_text = Text to clean.\n",
    "    2. token = 'word' or 'sentence'\n",
    "\n",
    "    Returns: Text.\n",
    "\n",
    "    \"\"\"\n",
    "\n",
    "    text = re.sub(r'\\W',' ', input_text) #Remove all non words\n",
    "    text = re.sub(r'\\d+',' ', text) #Remove all digits\n",
    "    text = text.lower() #Converting text into lowercase\n",
    "    text = re.sub(r'\\s+[a-z]\\s+',' ', text) #Remove all single letters\n",
    "    text = re.sub(r'^\\s+','', text) #Remove space from start of text\n",
    "    text = re.sub(r'\\s+$','', text) #Remove space from end of text\n",
    "    text = re.sub(r'\\s+',' ', text) #Remove all multi space    \n",
    "    text = text.split(' ') #Split the words into tokens\n",
    "    text = [word for word in text if word not in stop_words] #Remove stopwords\n",
    "    text = [WordNetLemmatizer().lemmatize(word) for word in text] #Lemmatize the words(get root form)\n",
    "    text = ' '.join(text)\n",
    "\n",
    "    return text"
   ]
  },
  {
   "cell_type": "markdown",
   "metadata": {},
   "source": [
    "## Check Class Balance"
   ]
  },
  {
   "cell_type": "code",
   "execution_count": 55,
   "metadata": {},
   "outputs": [
    {
     "data": {
      "image/png": "[encoded data removed]",
      "text/plain": [
       "<Figure size 576x432 with 1 Axes>"
      ]
     },
     "metadata": {
      "needs_background": "light"
     },
     "output_type": "display_data"
    }
   ],
   "source": [
    "plt.figure(figsize=(8,6))\n",
    "df_train['sentiment'].value_counts().plot(kind='bar')\n",
    "plt.xlabel('Review sentiment')\n",
    "plt.ylabel('Number of Reviews')\n",
    "plt.legend(loc='upper right')\n",
    "plt.show();"
   ]
  },
  {
   "cell_type": "markdown",
   "metadata": {},
   "source": [
    "### Having equal distribution is critical for modelling"
   ]
  },
  {
   "cell_type": "code",
   "execution_count": 8,
   "metadata": {
    "scrolled": true
   },
   "outputs": [
    {
     "data": {
      "text/plain": [
       "0    stuff going moment mj started listening music ...\n",
       "1    classic war world timothy hines entertaining f...\n",
       "2    film start manager nicholas bell giving welcom...\n",
       "Name: cleaned_review, dtype: object"
      ]
     },
     "execution_count": 8,
     "metadata": {},
     "output_type": "execute_result"
    }
   ],
   "source": [
    "#Clean the train review data\n",
    "df_train['cleaned_review'] = df_train['review'].apply(lambda x: clean_text(x))\n",
    "df_train['cleaned_review'].head(3)"
   ]
  },
  {
   "cell_type": "markdown",
   "metadata": {},
   "source": [
    "### Finding distribution"
   ]
  },
  {
   "cell_type": "code",
   "execution_count": 61,
   "metadata": {},
   "outputs": [
    {
     "data": {
      "text/html": [
       "<div>\n",
       "<style scoped>\n",
       "    .dataframe tbody tr th:only-of-type {\n",
       "        vertical-align: middle;\n",
       "    }\n",
       "\n",
       "    .dataframe tbody tr th {\n",
       "        vertical-align: top;\n",
       "    }\n",
       "\n",
       "    .dataframe thead th {\n",
       "        text-align: right;\n",
       "    }\n",
       "</style>\n",
       "<table border=\"1\" class=\"dataframe\">\n",
       "  <thead>\n",
       "    <tr style=\"text-align: right;\">\n",
       "      <th></th>\n",
       "      <th>id</th>\n",
       "      <th>sentiment</th>\n",
       "      <th>review</th>\n",
       "      <th>cleaned_review</th>\n",
       "      <th>review_length</th>\n",
       "    </tr>\n",
       "  </thead>\n",
       "  <tbody>\n",
       "    <tr>\n",
       "      <th>0</th>\n",
       "      <td>5814_8</td>\n",
       "      <td>1</td>\n",
       "      <td>With all this stuff going down at the moment w...</td>\n",
       "      <td>stuff going moment mj started listening music ...</td>\n",
       "      <td>227</td>\n",
       "    </tr>\n",
       "    <tr>\n",
       "      <th>1</th>\n",
       "      <td>2381_9</td>\n",
       "      <td>1</td>\n",
       "      <td>\\The Classic War of the Worlds\\\" by Timothy Hi...</td>\n",
       "      <td>classic war world timothy hines entertaining f...</td>\n",
       "      <td>81</td>\n",
       "    </tr>\n",
       "    <tr>\n",
       "      <th>2</th>\n",
       "      <td>7759_3</td>\n",
       "      <td>0</td>\n",
       "      <td>The film starts with a manager (Nicholas Bell)...</td>\n",
       "      <td>film start manager nicholas bell giving welcom...</td>\n",
       "      <td>241</td>\n",
       "    </tr>\n",
       "    <tr>\n",
       "      <th>3</th>\n",
       "      <td>3630_4</td>\n",
       "      <td>0</td>\n",
       "      <td>It must be assumed that those who praised this...</td>\n",
       "      <td>must assumed praised film greatest filmed oper...</td>\n",
       "      <td>193</td>\n",
       "    </tr>\n",
       "    <tr>\n",
       "      <th>4</th>\n",
       "      <td>9495_8</td>\n",
       "      <td>1</td>\n",
       "      <td>Superbly trashy and wondrously unpretentious 8...</td>\n",
       "      <td>superbly trashy wondrously unpretentious explo...</td>\n",
       "      <td>210</td>\n",
       "    </tr>\n",
       "  </tbody>\n",
       "</table>\n",
       "</div>"
      ],
      "text/plain": [
       "       id  ...  review_length\n",
       "0  5814_8  ...            227\n",
       "1  2381_9  ...             81\n",
       "2  7759_3  ...            241\n",
       "3  3630_4  ...            193\n",
       "4  9495_8  ...            210\n",
       "\n",
       "[5 rows x 5 columns]"
      ]
     },
     "execution_count": 61,
     "metadata": {},
     "output_type": "execute_result"
    }
   ],
   "source": [
    "df_train['review_length'] = df_train['cleaned_review'].apply(lambda x: len(x.split(' ')))\n",
    "df_train.head()"
   ]
  },
  {
   "cell_type": "code",
   "execution_count": 66,
   "metadata": {},
   "outputs": [
    {
     "data": {
      "text/plain": [
       "(123.35284, 91.0, 63)"
      ]
     },
     "execution_count": 66,
     "metadata": {},
     "output_type": "execute_result"
    }
   ],
   "source": [
    "mean = df_train['review_length'].mean()\n",
    "median = df_train['review_length'].median()\n",
    "mode = df_train['review_length'].mode()[0]\n",
    "\n",
    "mean, median, mode"
   ]
  },
  {
   "cell_type": "code",
   "execution_count": 91,
   "metadata": {
    "scrolled": true
   },
   "outputs": [
    {
     "data": {
      "image/png": "[encoded data removed]",
      "text/plain": [
       "<Figure size 504x360 with 1 Axes>"
      ]
     },
     "metadata": {
      "needs_background": "light"
     },
     "output_type": "display_data"
    }
   ],
   "source": [
    "plt.figure(figsize=(7,5))\n",
    "sb.distplot(df_train['review_length'], norm_hist=True)\n",
    "plt.axvline(label=f'Mean: {mean:.2f}'.format(mean), x=123, ymin=0, ymax=1, c='g')\n",
    "plt.axvline(label=f'Median: {median:.2f}', x=91, ymin=0, ymax=1, c='y')\n",
    "plt.axvline(label=f'Mode: {mode:.2f}', x=63, ymin=0, ymax=1, c='r')\n",
    "plt.legend(loc='best')\n",
    "plt.show();"
   ]
  },
  {
   "cell_type": "markdown",
   "metadata": {},
   "source": [
    "---"
   ]
  },
  {
   "cell_type": "markdown",
   "metadata": {},
   "source": [
    "## Word2Vec"
   ]
  },
  {
   "cell_type": "code",
   "execution_count": 94,
   "metadata": {},
   "outputs": [],
   "source": [
    "import gensim\n",
    "from gensim.models import Word2Vec, Phrases"
   ]
  },
  {
   "cell_type": "code",
   "execution_count": 95,
   "metadata": {},
   "outputs": [],
   "source": [
    "bigrams = Phrases(df_train['cleaned_review'])"
   ]
  },
  {
   "cell_type": "code",
   "execution_count": 103,
   "metadata": {},
   "outputs": [
    {
     "data": {
      "text/plain": [
       "['space', 'station', 'near', 'the', 'solar', 'system']"
      ]
     },
     "execution_count": 103,
     "metadata": {},
     "output_type": "execute_result"
    }
   ],
   "source": [
    "bigrams['space station near the solar system'.split()]"
   ]
  },
  {
   "cell_type": "code",
   "execution_count": 104,
   "metadata": {},
   "outputs": [],
   "source": [
    "trigrams = Phrases(bigrams[df_train['cleaned_review']])"
   ]
  },
  {
   "cell_type": "code",
   "execution_count": 107,
   "metadata": {},
   "outputs": [
    {
     "data": {
      "text/plain": [
       "20558766"
      ]
     },
     "execution_count": 107,
     "metadata": {},
     "output_type": "execute_result"
    }
   ],
   "source": [
    "trigrams.corpus_word_count"
   ]
  },
  {
   "cell_type": "code",
   "execution_count": 108,
   "metadata": {},
   "outputs": [
    {
     "data": {
      "text/plain": [
       "40000000"
      ]
     },
     "execution_count": 108,
     "metadata": {},
     "output_type": "execute_result"
    }
   ],
   "source": [
    "trigrams.max_vocab_size"
   ]
  },
  {
   "cell_type": "code",
   "execution_count": 109,
   "metadata": {},
   "outputs": [],
   "source": [
    "trigrams_model = Word2Vec(sentences=trigrams[bigrams[df_train['cleaned_review']]], size=256, min_count=3, workers=4)"
   ]
  },
  {
   "cell_type": "code",
   "execution_count": 110,
   "metadata": {},
   "outputs": [
    {
     "data": {
      "text/plain": [
       "25000"
      ]
     },
     "execution_count": 110,
     "metadata": {},
     "output_type": "execute_result"
    }
   ],
   "source": [
    "trigrams_model.corpus_count"
   ]
  },
  {
   "cell_type": "code",
   "execution_count": 117,
   "metadata": {},
   "outputs": [
    {
     "data": {
      "text/plain": [
       "'stuff going moment mj started listening music watching odd documentary watched wiz watched moonwalker maybe want get certain insight guy thought really cool eighty maybe make mind whether guilty innocent moonwalker part biography part feature film remember going see cinema originally released subtle message mj feeling towards press also obvious message drug bad kay br br visually impressive course michael jackson unless remotely like mj anyway going hate find boring may call mj egotist consenting making movie mj fan would say made fan true really nice br br actual feature film bit finally start minute excluding smooth criminal sequence joe pesci convincing psychopathic powerful drug lord want mj dead bad beyond mj overheard plan nah joe pesci character ranted wanted people know supplying drug etc dunno maybe hate mj music br br lot cool thing like mj turning car robot whole speed demon sequence also director must patience saint came filming kiddy bad sequence usually director hate working one kid let alone whole bunch performing complex dance scene br br bottom line movie people like mj one level another think people stay away try give wholesome message ironically mj bestest buddy movie girl michael jackson truly one talented people ever grace planet guilty well attention gave subject hmmm well know people different behind closed door know fact either extremely nice stupid guy one sickest liar hope latter'"
      ]
     },
     "execution_count": 117,
     "metadata": {},
     "output_type": "execute_result"
    }
   ],
   "source": [
    "df_train.loc[0,'cleaned_review']"
   ]
  },
  {
   "cell_type": "markdown",
   "metadata": {},
   "source": [
    "### Implemention #2"
   ]
  },
  {
   "cell_type": "code",
   "execution_count": 192,
   "metadata": {},
   "outputs": [],
   "source": [
    "#Sentences = list of list of corpus\n",
    "corpus=[eachrev.split(' ') for eachrev in df_train['cleaned_review']]"
   ]
  },
  {
   "cell_type": "code",
   "execution_count": 195,
   "metadata": {},
   "outputs": [],
   "source": [
    "w2v = Word2Vec(sentences=corpus, size=256)"
   ]
  },
  {
   "cell_type": "code",
   "execution_count": 203,
   "metadata": {},
   "outputs": [
    {
     "data": {
      "text/plain": [
       "[{'stuff': <gensim.models.keyedvectors.Vocab at 0x253fe19bc50>,\n",
       "  'going': <gensim.models.keyedvectors.Vocab at 0x253fe19be10>,\n",
       "  'moment': <gensim.models.keyedvectors.Vocab at 0x253fe19bcc0>,\n",
       "  'mj': <gensim.models.keyedvectors.Vocab at 0x253fe19be80>,\n",
       "  'started': <gensim.models.keyedvectors.Vocab at 0x253fe19b160>,\n",
       "  'listening': <gensim.models.keyedvectors.Vocab at 0x253fe19bf60>,\n",
       "  'music': <gensim.models.keyedvectors.Vocab at 0x253fe19bfd0>,\n",
       "  'watching': <gensim.models.keyedvectors.Vocab at 0x253fb0206d8>,\n",
       "  'odd': <gensim.models.keyedvectors.Vocab at 0x253fb020438>,\n",
       "  'documentary': <gensim.models.keyedvectors.Vocab at 0x253fb020978>,\n",
       "  'watched': <gensim.models.keyedvectors.Vocab at 0x253fb0209e8>,\n",
       "  'wiz': <gensim.models.keyedvectors.Vocab at 0x253fb0202e8>,\n",
       "  'moonwalker': <gensim.models.keyedvectors.Vocab at 0x253fb020908>,\n",
       "  'maybe': <gensim.models.keyedvectors.Vocab at 0x253fb020208>,\n",
       "  'want': <gensim.models.keyedvectors.Vocab at 0x253fb020358>,\n",
       "  'get': <gensim.models.keyedvectors.Vocab at 0x253fb020588>,\n",
       "  'certain': <gensim.models.keyedvectors.Vocab at 0x253fb020898>,\n",
       "  'insight': <gensim.models.keyedvectors.Vocab at 0x253fb0207b8>,\n",
       "  'guy': <gensim.models.keyedvectors.Vocab at 0x253fb020048>,\n",
       "  'thought': <gensim.models.keyedvectors.Vocab at 0x253fb020ac8>,\n",
       "  'really': <gensim.models.keyedvectors.Vocab at 0x253fb020b38>,\n",
       "  'cool': <gensim.models.keyedvectors.Vocab at 0x253fb020828>,\n",
       "  'eighty': <gensim.models.keyedvectors.Vocab at 0x253fb020128>,\n",
       "  'make': <gensim.models.keyedvectors.Vocab at 0x253fb020748>,\n",
       "  'mind': <gensim.models.keyedvectors.Vocab at 0x253fb020278>,\n",
       "  'whether': <gensim.models.keyedvectors.Vocab at 0x253fb0200b8>,\n",
       "  'guilty': <gensim.models.keyedvectors.Vocab at 0x253fb020518>,\n",
       "  'innocent': <gensim.models.keyedvectors.Vocab at 0x253fb020198>,\n",
       "  'part': <gensim.models.keyedvectors.Vocab at 0x253fb020668>,\n",
       "  'biography': <gensim.models.keyedvectors.Vocab at 0x253fb0204a8>,\n",
       "  'feature': <gensim.models.keyedvectors.Vocab at 0x253fb0205f8>,\n",
       "  'film': <gensim.models.keyedvectors.Vocab at 0x253fb020ba8>,\n",
       "  'remember': <gensim.models.keyedvectors.Vocab at 0x253fb020ef0>,\n",
       "  'see': <gensim.models.keyedvectors.Vocab at 0x253fb020c88>,\n",
       "  'cinema': <gensim.models.keyedvectors.Vocab at 0x253fb0203c8>,\n",
       "  'originally': <gensim.models.keyedvectors.Vocab at 0x253fb020d68>,\n",
       "  'released': <gensim.models.keyedvectors.Vocab at 0x253fb020c18>,\n",
       "  'subtle': <gensim.models.keyedvectors.Vocab at 0x253fb020cf8>,\n",
       "  'message': <gensim.models.keyedvectors.Vocab at 0x253fb020dd8>,\n",
       "  'feeling': <gensim.models.keyedvectors.Vocab at 0x253fb020a58>,\n",
       "  'towards': <gensim.models.keyedvectors.Vocab at 0x253fb020e48>,\n",
       "  'press': <gensim.models.keyedvectors.Vocab at 0x253fb020eb8>,\n",
       "  'also': <gensim.models.keyedvectors.Vocab at 0x253fe179208>,\n",
       "  'obvious': <gensim.models.keyedvectors.Vocab at 0x253fe179240>,\n",
       "  'drug': <gensim.models.keyedvectors.Vocab at 0x253fe179080>,\n",
       "  'bad': <gensim.models.keyedvectors.Vocab at 0x253fe179470>,\n",
       "  'kay': <gensim.models.keyedvectors.Vocab at 0x253fe1794a8>,\n",
       "  'br': <gensim.models.keyedvectors.Vocab at 0x253fe1790f0>,\n",
       "  'visually': <gensim.models.keyedvectors.Vocab at 0x253fe179160>,\n",
       "  'impressive': <gensim.models.keyedvectors.Vocab at 0x253fe1791d0>,\n",
       "  'course': <gensim.models.keyedvectors.Vocab at 0x253fe1793c8>,\n",
       "  'michael': <gensim.models.keyedvectors.Vocab at 0x253fe179550>,\n",
       "  'jackson': <gensim.models.keyedvectors.Vocab at 0x253fe1794e0>,\n",
       "  'unless': <gensim.models.keyedvectors.Vocab at 0x253fe1795c0>,\n",
       "  'remotely': <gensim.models.keyedvectors.Vocab at 0x253fe179518>,\n",
       "  'like': <gensim.models.keyedvectors.Vocab at 0x253fe179588>,\n",
       "  'anyway': <gensim.models.keyedvectors.Vocab at 0x253fe1795f8>,\n",
       "  'hate': <gensim.models.keyedvectors.Vocab at 0x253fe179630>,\n",
       "  'find': <gensim.models.keyedvectors.Vocab at 0x253fe1796d8>,\n",
       "  'boring': <gensim.models.keyedvectors.Vocab at 0x253fe179668>,\n",
       "  'may': <gensim.models.keyedvectors.Vocab at 0x253fe179748>,\n",
       "  'call': <gensim.models.keyedvectors.Vocab at 0x253fe1796a0>,\n",
       "  'egotist': <gensim.models.keyedvectors.Vocab at 0x253fe1797b8>,\n",
       "  'consenting': <gensim.models.keyedvectors.Vocab at 0x253fe179710>,\n",
       "  'making': <gensim.models.keyedvectors.Vocab at 0x253fe179828>,\n",
       "  'movie': <gensim.models.keyedvectors.Vocab at 0x253fe179780>,\n",
       "  'fan': <gensim.models.keyedvectors.Vocab at 0x253fe179898>,\n",
       "  'would': <gensim.models.keyedvectors.Vocab at 0x253fe1797f0>,\n",
       "  'say': <gensim.models.keyedvectors.Vocab at 0x253fe179908>,\n",
       "  'made': <gensim.models.keyedvectors.Vocab at 0x253fe179860>,\n",
       "  'true': <gensim.models.keyedvectors.Vocab at 0x253fe1798d0>,\n",
       "  'nice': <gensim.models.keyedvectors.Vocab at 0x253fe1799b0>,\n",
       "  'actual': <gensim.models.keyedvectors.Vocab at 0x253fe179940>,\n",
       "  'bit': <gensim.models.keyedvectors.Vocab at 0x253fe179978>,\n",
       "  'finally': <gensim.models.keyedvectors.Vocab at 0x253fe179a58>,\n",
       "  'start': <gensim.models.keyedvectors.Vocab at 0x253fe1799e8>,\n",
       "  'minute': <gensim.models.keyedvectors.Vocab at 0x253fe179ac8>,\n",
       "  'excluding': <gensim.models.keyedvectors.Vocab at 0x253fe179a20>,\n",
       "  'smooth': <gensim.models.keyedvectors.Vocab at 0x253fe179b38>,\n",
       "  'criminal': <gensim.models.keyedvectors.Vocab at 0x253fe179a90>,\n",
       "  'sequence': <gensim.models.keyedvectors.Vocab at 0x253fe179ba8>,\n",
       "  'joe': <gensim.models.keyedvectors.Vocab at 0x253fe179b00>,\n",
       "  'pesci': <gensim.models.keyedvectors.Vocab at 0x253fe179b70>,\n",
       "  'convincing': <gensim.models.keyedvectors.Vocab at 0x253fe179be0>,\n",
       "  'psychopathic': <gensim.models.keyedvectors.Vocab at 0x253fe179c18>,\n",
       "  'powerful': <gensim.models.keyedvectors.Vocab at 0x253fe179c50>,\n",
       "  'lord': <gensim.models.keyedvectors.Vocab at 0x253fe179cf8>,\n",
       "  'dead': <gensim.models.keyedvectors.Vocab at 0x253fe179c88>,\n",
       "  'beyond': <gensim.models.keyedvectors.Vocab at 0x253fe179cc0>,\n",
       "  'overheard': <gensim.models.keyedvectors.Vocab at 0x253fe179da0>,\n",
       "  'plan': <gensim.models.keyedvectors.Vocab at 0x253fe179d30>,\n",
       "  'nah': <gensim.models.keyedvectors.Vocab at 0x253fe179e10>,\n",
       "  'character': <gensim.models.keyedvectors.Vocab at 0x253fe179d68>,\n",
       "  'wanted': <gensim.models.keyedvectors.Vocab at 0x253fe179e80>,\n",
       "  'people': <gensim.models.keyedvectors.Vocab at 0x253fe179dd8>,\n",
       "  'know': <gensim.models.keyedvectors.Vocab at 0x253fe179ef0>,\n",
       "  'supplying': <gensim.models.keyedvectors.Vocab at 0x253fe179e48>,\n",
       "  'etc': <gensim.models.keyedvectors.Vocab at 0x253fe179f60>,\n",
       "  'dunno': <gensim.models.keyedvectors.Vocab at 0x253fe179eb8>,\n",
       "  'lot': <gensim.models.keyedvectors.Vocab at 0x253fe179fd0>,\n",
       "  'thing': <gensim.models.keyedvectors.Vocab at 0x253fe179f28>,\n",
       "  'turning': <gensim.models.keyedvectors.Vocab at 0x253fe179f98>,\n",
       "  'car': <gensim.models.keyedvectors.Vocab at 0x253fb567828>,\n",
       "  'robot': <gensim.models.keyedvectors.Vocab at 0x2538911a0f0>,\n",
       "  'whole': <gensim.models.keyedvectors.Vocab at 0x253fece98d0>,\n",
       "  'speed': <gensim.models.keyedvectors.Vocab at 0x253fece9898>,\n",
       "  'demon': <gensim.models.keyedvectors.Vocab at 0x253fece9048>,\n",
       "  'director': <gensim.models.keyedvectors.Vocab at 0x253fece90b8>,\n",
       "  'must': <gensim.models.keyedvectors.Vocab at 0x253fece9128>,\n",
       "  'patience': <gensim.models.keyedvectors.Vocab at 0x253fece9080>,\n",
       "  'saint': <gensim.models.keyedvectors.Vocab at 0x253fece9198>,\n",
       "  'came': <gensim.models.keyedvectors.Vocab at 0x253fece90f0>,\n",
       "  'filming': <gensim.models.keyedvectors.Vocab at 0x253fece9208>,\n",
       "  'kiddy': <gensim.models.keyedvectors.Vocab at 0x253fece9160>,\n",
       "  'usually': <gensim.models.keyedvectors.Vocab at 0x253fece9278>,\n",
       "  'working': <gensim.models.keyedvectors.Vocab at 0x253fece91d0>,\n",
       "  'one': <gensim.models.keyedvectors.Vocab at 0x253fece92e8>,\n",
       "  'kid': <gensim.models.keyedvectors.Vocab at 0x253fece9240>,\n",
       "  'let': <gensim.models.keyedvectors.Vocab at 0x253fece9358>,\n",
       "  'alone': <gensim.models.keyedvectors.Vocab at 0x253fece92b0>,\n",
       "  'bunch': <gensim.models.keyedvectors.Vocab at 0x253fece9320>,\n",
       "  'performing': <gensim.models.keyedvectors.Vocab at 0x253fece9400>,\n",
       "  'complex': <gensim.models.keyedvectors.Vocab at 0x253fece9390>,\n",
       "  'dance': <gensim.models.keyedvectors.Vocab at 0x253fece9470>,\n",
       "  'scene': <gensim.models.keyedvectors.Vocab at 0x253fece93c8>,\n",
       "  'bottom': <gensim.models.keyedvectors.Vocab at 0x253fece94e0>,\n",
       "  'line': <gensim.models.keyedvectors.Vocab at 0x253fece9438>,\n",
       "  'level': <gensim.models.keyedvectors.Vocab at 0x253fece9550>,\n",
       "  'another': <gensim.models.keyedvectors.Vocab at 0x253fece94a8>,\n",
       "  'think': <gensim.models.keyedvectors.Vocab at 0x253fece95c0>,\n",
       "  'stay': <gensim.models.keyedvectors.Vocab at 0x253fece9518>,\n",
       "  'away': <gensim.models.keyedvectors.Vocab at 0x253fece9588>,\n",
       "  'try': <gensim.models.keyedvectors.Vocab at 0x253fece96a0>,\n",
       "  'give': <gensim.models.keyedvectors.Vocab at 0x253fece9630>,\n",
       "  'wholesome': <gensim.models.keyedvectors.Vocab at 0x253fece9668>,\n",
       "  'ironically': <gensim.models.keyedvectors.Vocab at 0x253fece9748>,\n",
       "  'buddy': <gensim.models.keyedvectors.Vocab at 0x253fece96d8>,\n",
       "  'girl': <gensim.models.keyedvectors.Vocab at 0x253fece9710>,\n",
       "  'truly': <gensim.models.keyedvectors.Vocab at 0x253fece97f0>,\n",
       "  'talented': <gensim.models.keyedvectors.Vocab at 0x253fece9780>,\n",
       "  'ever': <gensim.models.keyedvectors.Vocab at 0x253fece9860>,\n",
       "  'grace': <gensim.models.keyedvectors.Vocab at 0x253fece97b8>,\n",
       "  'planet': <gensim.models.keyedvectors.Vocab at 0x253fece9940>,\n",
       "  'well': <gensim.models.keyedvectors.Vocab at 0x253fece9828>,\n",
       "  'attention': <gensim.models.keyedvectors.Vocab at 0x253fece99b0>,\n",
       "  'gave': <gensim.models.keyedvectors.Vocab at 0x253fece9908>,\n",
       "  'subject': <gensim.models.keyedvectors.Vocab at 0x253fece9978>,\n",
       "  'hmmm': <gensim.models.keyedvectors.Vocab at 0x253fece99e8>,\n",
       "  'different': <gensim.models.keyedvectors.Vocab at 0x253fece9a20>,\n",
       "  'behind': <gensim.models.keyedvectors.Vocab at 0x253fece9ac8>,\n",
       "  'closed': <gensim.models.keyedvectors.Vocab at 0x253fece9a58>,\n",
       "  'door': <gensim.models.keyedvectors.Vocab at 0x253fece9a90>,\n",
       "  'fact': <gensim.models.keyedvectors.Vocab at 0x253fece9b70>,\n",
       "  'either': <gensim.models.keyedvectors.Vocab at 0x253fece9b00>,\n",
       "  'extremely': <gensim.models.keyedvectors.Vocab at 0x253fece9be0>,\n",
       "  'stupid': <gensim.models.keyedvectors.Vocab at 0x253fece9b38>,\n",
       "  'sickest': <gensim.models.keyedvectors.Vocab at 0x253fece9c50>,\n",
       "  'liar': <gensim.models.keyedvectors.Vocab at 0x253fece9ba8>,\n",
       "  'hope': <gensim.models.keyedvectors.Vocab at 0x253fece9cc0>,\n",
       "  'latter': <gensim.models.keyedvectors.Vocab at 0x253fece9c18>,\n",
       "  'classic': <gensim.models.keyedvectors.Vocab at 0x253fece9d30>,\n",
       "  'war': <gensim.models.keyedvectors.Vocab at 0x253fece9c88>,\n",
       "  'world': <gensim.models.keyedvectors.Vocab at 0x253fece9da0>,\n",
       "  'timothy': <gensim.models.keyedvectors.Vocab at 0x253fece9cf8>,\n",
       "  'hines': <gensim.models.keyedvectors.Vocab at 0x253fece9d68>,\n",
       "  'entertaining': <gensim.models.keyedvectors.Vocab at 0x253fece9dd8>,\n",
       "  'obviously': <gensim.models.keyedvectors.Vocab at 0x253fece9e80>,\n",
       "  'go': <gensim.models.keyedvectors.Vocab at 0x253fece9e10>,\n",
       "  'great': <gensim.models.keyedvectors.Vocab at 0x253fece9ef0>,\n",
       "  'effort': <gensim.models.keyedvectors.Vocab at 0x253fece9e48>,\n",
       "  'length': <gensim.models.keyedvectors.Vocab at 0x253fece9f60>,\n",
       "  'faithfully': <gensim.models.keyedvectors.Vocab at 0x253fece9eb8>,\n",
       "  'recreate': <gensim.models.keyedvectors.Vocab at 0x253fece9fd0>,\n",
       "  'g': <gensim.models.keyedvectors.Vocab at 0x253fece9f28>,\n",
       "  'book': <gensim.models.keyedvectors.Vocab at 0x253fece9f98>,\n",
       "  'mr': <gensim.models.keyedvectors.Vocab at 0x253fe9909e8>,\n",
       "  'succeeds': <gensim.models.keyedvectors.Vocab at 0x253fe1ab4a8>,\n",
       "  'appreciated': <gensim.models.keyedvectors.Vocab at 0x253fb2ded68>,\n",
       "  'standard': <gensim.models.keyedvectors.Vocab at 0x253fb2de828>,\n",
       "  'predictable': <gensim.models.keyedvectors.Vocab at 0x253fe185f98>,\n",
       "  'hollywood': <gensim.models.keyedvectors.Vocab at 0x253fb022128>,\n",
       "  'fare': <gensim.models.keyedvectors.Vocab at 0x253fb022c18>,\n",
       "  'come': <gensim.models.keyedvectors.Vocab at 0x253fb022dd8>,\n",
       "  'every': <gensim.models.keyedvectors.Vocab at 0x253fb022a58>,\n",
       "  'year': <gensim.models.keyedvectors.Vocab at 0x253fb022898>,\n",
       "  'spielberg': <gensim.models.keyedvectors.Vocab at 0x253fb022eb8>,\n",
       "  'version': <gensim.models.keyedvectors.Vocab at 0x253fe574588>,\n",
       "  'tom': <gensim.models.keyedvectors.Vocab at 0x253fe574a58>,\n",
       "  'cruise': <gensim.models.keyedvectors.Vocab at 0x253fe574f98>,\n",
       "  'slightest': <gensim.models.keyedvectors.Vocab at 0x253fe574ba8>,\n",
       "  'resemblance': <gensim.models.keyedvectors.Vocab at 0x253fe5743c8>,\n",
       "  'everyone': <gensim.models.keyedvectors.Vocab at 0x253fe5744a8>,\n",
       "  'look': <gensim.models.keyedvectors.Vocab at 0x253fe574358>,\n",
       "  'envision': <gensim.models.keyedvectors.Vocab at 0x253fe574e10>,\n",
       "  'amateur': <gensim.models.keyedvectors.Vocab at 0x253fe574be0>,\n",
       "  'critic': <gensim.models.keyedvectors.Vocab at 0x253fe574c88>,\n",
       "  'criticize': <gensim.models.keyedvectors.Vocab at 0x253fe574da0>,\n",
       "  'everything': <gensim.models.keyedvectors.Vocab at 0x253fe574278>,\n",
       "  'others': <gensim.models.keyedvectors.Vocab at 0x253fe574c50>,\n",
       "  'rate': <gensim.models.keyedvectors.Vocab at 0x253fe574cf8>,\n",
       "  'important': <gensim.models.keyedvectors.Vocab at 0x253fe574438>,\n",
       "  'base': <gensim.models.keyedvectors.Vocab at 0x253fe574eb8>,\n",
       "  'entertained': <gensim.models.keyedvectors.Vocab at 0x253fe574b00>,\n",
       "  'never': <gensim.models.keyedvectors.Vocab at 0x253fe574ef0>,\n",
       "  'agree': <gensim.models.keyedvectors.Vocab at 0x253fe574128>,\n",
       "  'enjoyed': <gensim.models.keyedvectors.Vocab at 0x253fe574cc0>,\n",
       "  'put': <gensim.models.keyedvectors.Vocab at 0x253fafd9748>,\n",
       "  'faithful': <gensim.models.keyedvectors.Vocab at 0x253fafd9908>,\n",
       "  'novel': <gensim.models.keyedvectors.Vocab at 0x253fafd9828>,\n",
       "  'found': <gensim.models.keyedvectors.Vocab at 0x253fafd93c8>,\n",
       "  'easy': <gensim.models.keyedvectors.Vocab at 0x253fafd9c18>,\n",
       "  'overlook': <gensim.models.keyedvectors.Vocab at 0x253fafd9208>,\n",
       "  'perceive': <gensim.models.keyedvectors.Vocab at 0x253fafd9128>,\n",
       "  'shortcoming': <gensim.models.keyedvectors.Vocab at 0x253fafd9898>,\n",
       "  'manager': <gensim.models.keyedvectors.Vocab at 0x253fafd9d68>,\n",
       "  'nicholas': <gensim.models.keyedvectors.Vocab at 0x253fafe43c8>,\n",
       "  'bell': <gensim.models.keyedvectors.Vocab at 0x253fafe4128>,\n",
       "  'giving': <gensim.models.keyedvectors.Vocab at 0x253fafe49e8>,\n",
       "  'welcome': <gensim.models.keyedvectors.Vocab at 0x253fafe4588>,\n",
       "  'investor': <gensim.models.keyedvectors.Vocab at 0x253fafe4cf8>,\n",
       "  'robert': <gensim.models.keyedvectors.Vocab at 0x253fafe46d8>,\n",
       "  'carradine': <gensim.models.keyedvectors.Vocab at 0x253fafe4f98>,\n",
       "  'primal': <gensim.models.keyedvectors.Vocab at 0x253fafe4668>,\n",
       "  'park': <gensim.models.keyedvectors.Vocab at 0x253fafe4898>,\n",
       "  'secret': <gensim.models.keyedvectors.Vocab at 0x253fafe4438>,\n",
       "  'project': <gensim.models.keyedvectors.Vocab at 0x253fafe4f28>,\n",
       "  'animal': <gensim.models.keyedvectors.Vocab at 0x253fafe42e8>,\n",
       "  'using': <gensim.models.keyedvectors.Vocab at 0x253fafe4ac8>,\n",
       "  'dna': <gensim.models.keyedvectors.Vocab at 0x253fafe4048>,\n",
       "  'scientist': <gensim.models.keyedvectors.Vocab at 0x253fafe4748>,\n",
       "  'resurrect': <gensim.models.keyedvectors.Vocab at 0x253fafe4d68>,\n",
       "  'nature': <gensim.models.keyedvectors.Vocab at 0x253fafe4c18>,\n",
       "  'fearsome': <gensim.models.keyedvectors.Vocab at 0x253fafe4978>,\n",
       "  'predator': <gensim.models.keyedvectors.Vocab at 0x253fafe4518>,\n",
       "  'sabretooth': <gensim.models.keyedvectors.Vocab at 0x253fafe4a58>,\n",
       "  'tiger': <gensim.models.keyedvectors.Vocab at 0x253fafe4ba8>,\n",
       "  'scientific': <gensim.models.keyedvectors.Vocab at 0x253fafe4dd8>,\n",
       "  'ambition': <gensim.models.keyedvectors.Vocab at 0x253fafe45f8>,\n",
       "  'turn': <gensim.models.keyedvectors.Vocab at 0x253fafe6d68>,\n",
       "  'deadly': <gensim.models.keyedvectors.Vocab at 0x253fafe6e48>,\n",
       "  'however': <gensim.models.keyedvectors.Vocab at 0x253fafe6518>,\n",
       "  'high': <gensim.models.keyedvectors.Vocab at 0x253fafe62e8>,\n",
       "  'voltage': <gensim.models.keyedvectors.Vocab at 0x253fafe6908>,\n",
       "  'fence': <gensim.models.keyedvectors.Vocab at 0x253fafe63c8>,\n",
       "  'opened': <gensim.models.keyedvectors.Vocab at 0x253fafe60b8>,\n",
       "  'creature': <gensim.models.keyedvectors.Vocab at 0x253fafe6dd8>,\n",
       "  'escape': <gensim.models.keyedvectors.Vocab at 0x253fafe6438>,\n",
       "  'begin': <gensim.models.keyedvectors.Vocab at 0x253fafe67b8>,\n",
       "  'savagely': <gensim.models.keyedvectors.Vocab at 0x253fafe6128>,\n",
       "  'stalking': <gensim.models.keyedvectors.Vocab at 0x253fafe6c18>,\n",
       "  'prey': <gensim.models.keyedvectors.Vocab at 0x253fafe6f28>,\n",
       "  'human': <gensim.models.keyedvectors.Vocab at 0x253fafe6198>,\n",
       "  'visitor': <gensim.models.keyedvectors.Vocab at 0x253fafe6b38>,\n",
       "  'tourist': <gensim.models.keyedvectors.Vocab at 0x253fafe66d8>,\n",
       "  'meanwhile': <gensim.models.keyedvectors.Vocab at 0x253fafe6668>,\n",
       "  'youngster': <gensim.models.keyedvectors.Vocab at 0x253fafe6eb8>,\n",
       "  'enter': <gensim.models.keyedvectors.Vocab at 0x253fafe6358>,\n",
       "  'restricted': <gensim.models.keyedvectors.Vocab at 0x253fafe6048>,\n",
       "  'area': <gensim.models.keyedvectors.Vocab at 0x253fafe6588>,\n",
       "  'security': <gensim.models.keyedvectors.Vocab at 0x253fafe6828>,\n",
       "  'center': <gensim.models.keyedvectors.Vocab at 0x253fafe69e8>,\n",
       "  'attacked': <gensim.models.keyedvectors.Vocab at 0x25388d75080>,\n",
       "  'pack': <gensim.models.keyedvectors.Vocab at 0x25388d75518>,\n",
       "  'large': <gensim.models.keyedvectors.Vocab at 0x25388d75128>,\n",
       "  'pre': <gensim.models.keyedvectors.Vocab at 0x25388d75198>,\n",
       "  'historical': <gensim.models.keyedvectors.Vocab at 0x25388d751d0>,\n",
       "  'bigger': <gensim.models.keyedvectors.Vocab at 0x25388d75240>,\n",
       "  'addition': <gensim.models.keyedvectors.Vocab at 0x25388d752b0>,\n",
       "  'agent': <gensim.models.keyedvectors.Vocab at 0x25388d752e8>,\n",
       "  'stacy': <gensim.models.keyedvectors.Vocab at 0x25388d75358>,\n",
       "  'mate': <gensim.models.keyedvectors.Vocab at 0x25388d753c8>,\n",
       "  'brian': <gensim.models.keyedvectors.Vocab at 0x25388d75400>,\n",
       "  'fight': <gensim.models.keyedvectors.Vocab at 0x25388d75470>,\n",
       "  'hardly': <gensim.models.keyedvectors.Vocab at 0x25388d75390>,\n",
       "  'carnivorous': <gensim.models.keyedvectors.Vocab at 0x25388d754e0>,\n",
       "  'sabretooths': <gensim.models.keyedvectors.Vocab at 0x25388d75438>,\n",
       "  'real': <gensim.models.keyedvectors.Vocab at 0x25388d75278>,\n",
       "  'star': <gensim.models.keyedvectors.Vocab at 0x25388d754a8>,\n",
       "  'astounding': <gensim.models.keyedvectors.Vocab at 0x25388d75320>,\n",
       "  'terrifyingly': <gensim.models.keyedvectors.Vocab at 0x25388d75208>,\n",
       "  'though': <gensim.models.keyedvectors.Vocab at 0x25388d75160>,\n",
       "  'giant': <gensim.models.keyedvectors.Vocab at 0x25388d750f0>,\n",
       "  'group': <gensim.models.keyedvectors.Vocab at 0x25388d75550>,\n",
       "  'run': <gensim.models.keyedvectors.Vocab at 0x25388d750b8>,\n",
       "  'afoul': <gensim.models.keyedvectors.Vocab at 0x25388d755c0>,\n",
       "  'furthermore': <gensim.models.keyedvectors.Vocab at 0x25388d75048>,\n",
       "  'third': <gensim.models.keyedvectors.Vocab at 0x25388d75588>,\n",
       "  'dangerous': <gensim.models.keyedvectors.Vocab at 0x25388d75668>,\n",
       "  'slow': <gensim.models.keyedvectors.Vocab at 0x25388d755f8>,\n",
       "  'stalk': <gensim.models.keyedvectors.Vocab at 0x25388d756d8>,\n",
       "  'victim': <gensim.models.keyedvectors.Vocab at 0x25388d75630>,\n",
       "  'delivers': <gensim.models.keyedvectors.Vocab at 0x25388d75748>,\n",
       "  'good': <gensim.models.keyedvectors.Vocab at 0x25388d756a0>,\n",
       "  'blood': <gensim.models.keyedvectors.Vocab at 0x25388d75710>,\n",
       "  'gore': <gensim.models.keyedvectors.Vocab at 0x25388d75780>,\n",
       "  'beheading': <gensim.models.keyedvectors.Vocab at 0x25388d75828>,\n",
       "  'hair': <gensim.models.keyedvectors.Vocab at 0x25388d757b8>,\n",
       "  'raising': <gensim.models.keyedvectors.Vocab at 0x25388d757f0>,\n",
       "  'chill': <gensim.models.keyedvectors.Vocab at 0x25388d758d0>,\n",
       "  'full': <gensim.models.keyedvectors.Vocab at 0x25388d75860>,\n",
       "  'scare': <gensim.models.keyedvectors.Vocab at 0x25388d75898>,\n",
       "  'appear': <gensim.models.keyedvectors.Vocab at 0x25388d75908>,\n",
       "  'mediocre': <gensim.models.keyedvectors.Vocab at 0x25388d75940>,\n",
       "  'special': <gensim.models.keyedvectors.Vocab at 0x25388d759e8>,\n",
       "  'effect': <gensim.models.keyedvectors.Vocab at 0x25388d75978>,\n",
       "  'story': <gensim.models.keyedvectors.Vocab at 0x25388d75a58>,\n",
       "  'provides': <gensim.models.keyedvectors.Vocab at 0x25388d759b0>,\n",
       "  'exciting': <gensim.models.keyedvectors.Vocab at 0x25388d75ac8>,\n",
       "  'stirring': <gensim.models.keyedvectors.Vocab at 0x25388d75a20>,\n",
       "  'entertainment': <gensim.models.keyedvectors.Vocab at 0x25388d75b38>,\n",
       "  'result': <gensim.models.keyedvectors.Vocab at 0x25388d75a90>,\n",
       "  'quite': <gensim.models.keyedvectors.Vocab at 0x25388d75ba8>,\n",
       "  'majority': <gensim.models.keyedvectors.Vocab at 0x25388d75b00>,\n",
       "  'computer': <gensim.models.keyedvectors.Vocab at 0x25388d75b70>,\n",
       "  'generator': <gensim.models.keyedvectors.Vocab at 0x25388d75be0>,\n",
       "  'seem': <gensim.models.keyedvectors.Vocab at 0x25388d75c88>,\n",
       "  'totally': <gensim.models.keyedvectors.Vocab at 0x25388d75c18>,\n",
       "  'lousy': <gensim.models.keyedvectors.Vocab at 0x25388d75c50>,\n",
       "  'middling': <gensim.models.keyedvectors.Vocab at 0x25388d75cc0>,\n",
       "  'performance': <gensim.models.keyedvectors.Vocab at 0x25388d75cf8>,\n",
       "  'player': <gensim.models.keyedvectors.Vocab at 0x25388d75da0>,\n",
       "  'reacting': <gensim.models.keyedvectors.Vocab at 0x25388d75d30>,\n",
       "  'appropriately': <gensim.models.keyedvectors.Vocab at 0x25388d75d68>,\n",
       "  'becoming': <gensim.models.keyedvectors.Vocab at 0x25388e082e8>,\n",
       "  'food': <gensim.models.keyedvectors.Vocab at 0x25388e08320>,\n",
       "  'actor': <gensim.models.keyedvectors.Vocab at 0x253fe1c8eb8>,\n",
       "  'vigorously': <gensim.models.keyedvectors.Vocab at 0x253fafd9278>,\n",
       "  'physical': <gensim.models.keyedvectors.Vocab at 0x25388d75f60>,\n",
       "  'dodging': <gensim.models.keyedvectors.Vocab at 0x25388d75dd8>,\n",
       "  'beast': <gensim.models.keyedvectors.Vocab at 0x25388d75e10>,\n",
       "  'running': <gensim.models.keyedvectors.Vocab at 0x25388d75e48>,\n",
       "  'bound': <gensim.models.keyedvectors.Vocab at 0x25388d786d8>,\n",
       "  'leap': <gensim.models.keyedvectors.Vocab at 0x25388d787b8>,\n",
       "  'dangling': <gensim.models.keyedvectors.Vocab at 0x25388d78588>,\n",
       "  'wall': <gensim.models.keyedvectors.Vocab at 0x25388d78978>,\n",
       "  'ridiculous': <gensim.models.keyedvectors.Vocab at 0x25388d784e0>,\n",
       "  'final': <gensim.models.keyedvectors.Vocab at 0x25388d78518>,\n",
       "  'small': <gensim.models.keyedvectors.Vocab at 0x25388d78710>,\n",
       "  'realistic': <gensim.models.keyedvectors.Vocab at 0x25388d785c0>,\n",
       "  'gory': <gensim.models.keyedvectors.Vocab at 0x25388d78438>,\n",
       "  'violent': <gensim.models.keyedvectors.Vocab at 0x25388d789b0>,\n",
       "  'attack': <gensim.models.keyedvectors.Vocab at 0x25388d786a0>,\n",
       "  'following': <gensim.models.keyedvectors.Vocab at 0x25388d78b00>,\n",
       "  'james': <gensim.models.keyedvectors.Vocab at 0x25388d78550>,\n",
       "  'hickox': <gensim.models.keyedvectors.Vocab at 0x25388d78940>,\n",
       "  'vanessa': <gensim.models.keyedvectors.Vocab at 0x25388d78b70>,\n",
       "  'angel': <gensim.models.keyedvectors.Vocab at 0x25388d780f0>,\n",
       "  'david': <gensim.models.keyedvectors.Vocab at 0x25388d78748>,\n",
       "  'keith': <gensim.models.keyedvectors.Vocab at 0x25388d78908>,\n",
       "  'john': <gensim.models.keyedvectors.Vocab at 0x25388d788d0>,\n",
       "  'rhys': <gensim.models.keyedvectors.Vocab at 0x25388d78c18>,\n",
       "  'davy': <gensim.models.keyedvectors.Vocab at 0x25388d785f8>,\n",
       "  'much': <gensim.models.keyedvectors.Vocab at 0x25388d78d30>,\n",
       "  'better': <gensim.models.keyedvectors.Vocab at 0x25388d78ba8>,\n",
       "  'bc': <gensim.models.keyedvectors.Vocab at 0x25388d78b38>,\n",
       "  'roland': <gensim.models.keyedvectors.Vocab at 0x25388d78a58>,\n",
       "  'steven': <gensim.models.keyedvectors.Vocab at 0x253fe1759e8>,\n",
       "  'strait': <gensim.models.keyedvectors.Vocab at 0x253fe175978>,\n",
       "  'cliff': <gensim.models.keyedvectors.Vocab at 0x253fe1759b0>,\n",
       "  'curtis': <gensim.models.keyedvectors.Vocab at 0x253fe175a90>,\n",
       "  'camilla': <gensim.models.keyedvectors.Vocab at 0x253fe175c88>,\n",
       "  'belle': <gensim.models.keyedvectors.Vocab at 0x253fe175cc0>,\n",
       "  'motion': <gensim.models.keyedvectors.Vocab at 0x253fe175cf8>,\n",
       "  'picture': <gensim.models.keyedvectors.Vocab at 0x253fe175d68>,\n",
       "  'filled': <gensim.models.keyedvectors.Vocab at 0x253fe175da0>,\n",
       "  'bloody': <gensim.models.keyedvectors.Vocab at 0x253fe175e10>,\n",
       "  'badly': <gensim.models.keyedvectors.Vocab at 0x253fe175e48>,\n",
       "  'directed': <gensim.models.keyedvectors.Vocab at 0x253fe175d30>,\n",
       "  'george': <gensim.models.keyedvectors.Vocab at 0x253fe175b70>,\n",
       "  'miller': <gensim.models.keyedvectors.Vocab at 0x253fe175a20>,\n",
       "  'originality': <gensim.models.keyedvectors.Vocab at 0x253fe175ac8>,\n",
       "  'take': <gensim.models.keyedvectors.Vocab at 0x253fe175b38>,\n",
       "  'many': <gensim.models.keyedvectors.Vocab at 0x253fe175860>,\n",
       "  'element': <gensim.models.keyedvectors.Vocab at 0x253fe175898>,\n",
       "  'previous': <gensim.models.keyedvectors.Vocab at 0x253fe175828>,\n",
       "  'australian': <gensim.models.keyedvectors.Vocab at 0x253fe175780>,\n",
       "  'television': <gensim.models.keyedvectors.Vocab at 0x253fe175748>,\n",
       "  'tidal': <gensim.models.keyedvectors.Vocab at 0x253fe175080>,\n",
       "  'wave': <gensim.models.keyedvectors.Vocab at 0x253fe175160>,\n",
       "  'journey': <gensim.models.keyedvectors.Vocab at 0x253fe1751d0>,\n",
       "  'earth': <gensim.models.keyedvectors.Vocab at 0x253fe1750f0>,\n",
       "  'occasionally': <gensim.models.keyedvectors.Vocab at 0x253fe175710>,\n",
       "  'man': <gensim.models.keyedvectors.Vocab at 0x253fe175400>,\n",
       "  'snowy': <gensim.models.keyedvectors.Vocab at 0x253fe175940>,\n",
       "  'river': <gensim.models.keyedvectors.Vocab at 0x253fe1757b8>,\n",
       "  'zeus': <gensim.models.keyedvectors.Vocab at 0x253fe1757f0>,\n",
       "  'roxanne': <gensim.models.keyedvectors.Vocab at 0x253fe1758d0>,\n",
       "  'robinson': <gensim.models.keyedvectors.Vocab at 0x253fe175240>,\n",
       "  'rating': <gensim.models.keyedvectors.Vocab at 0x253fe1752b0>,\n",
       "  'average': <gensim.models.keyedvectors.Vocab at 0x253fe175ba8>,\n",
       "  'barrel': <gensim.models.keyedvectors.Vocab at 0x253fe175dd8>,\n",
       "  'assumed': <gensim.models.keyedvectors.Vocab at 0x253fe175390>,\n",
       "  'praised': <gensim.models.keyedvectors.Vocab at 0x253fe175320>,\n",
       "  'greatest': <gensim.models.keyedvectors.Vocab at 0x253fe175b00>,\n",
       "  'filmed': <gensim.models.keyedvectors.Vocab at 0x253fe175438>,\n",
       "  'opera': <gensim.models.keyedvectors.Vocab at 0x253fe175518>,\n",
       "  'read': <gensim.models.keyedvectors.Vocab at 0x253fe1754a8>,\n",
       "  'somewhere': <gensim.models.keyedvectors.Vocab at 0x253fe175588>,\n",
       "  'care': <gensim.models.keyedvectors.Vocab at 0x253fe1755f8>,\n",
       "  'wagner': <gensim.models.keyedvectors.Vocab at 0x253fe175668>,\n",
       "  'anything': <gensim.models.keyedvectors.Vocab at 0x253fe1756d8>,\n",
       "  'except': <gensim.models.keyedvectors.Vocab at 0x253fe190cf8>,\n",
       "  'desire': <gensim.models.keyedvectors.Vocab at 0x253fe190780>,\n",
       "  'cultured': <gensim.models.keyedvectors.Vocab at 0x253fe1909b0>,\n",
       "  'representation': <gensim.models.keyedvectors.Vocab at 0x253fe190ac8>,\n",
       "  'swan': <gensim.models.keyedvectors.Vocab at 0x253fe1908d0>,\n",
       "  'song': <gensim.models.keyedvectors.Vocab at 0x253fe190898>,\n",
       "  'strike': <gensim.models.keyedvectors.Vocab at 0x253fe190828>,\n",
       "  'unmitigated': <gensim.models.keyedvectors.Vocab at 0x253fe1907b8>,\n",
       "  'disaster': <gensim.models.keyedvectors.Vocab at 0x253fe190748>,\n",
       "  'leaden': <gensim.models.keyedvectors.Vocab at 0x253fe190710>,\n",
       "  'reading': <gensim.models.keyedvectors.Vocab at 0x253fe1906a0>,\n",
       "  'score': <gensim.models.keyedvectors.Vocab at 0x253fe190630>,\n",
       "  'matched': <gensim.models.keyedvectors.Vocab at 0x253fe190908>,\n",
       "  'lugubrious': <gensim.models.keyedvectors.Vocab at 0x253fe1907f0>,\n",
       "  'realisation': <gensim.models.keyedvectors.Vocab at 0x253fe190860>,\n",
       "  'text': <gensim.models.keyedvectors.Vocab at 0x253fe190b00>,\n",
       "  'questionable': <gensim.models.keyedvectors.Vocab at 0x253fe190f98>,\n",
       "  'idea': <gensim.models.keyedvectors.Vocab at 0x253fe190ba8>,\n",
       "  'matter': <gensim.models.keyedvectors.Vocab at 0x253fe190a20>,\n",
       "  'play': <gensim.models.keyedvectors.Vocab at 0x253fe1906d8>,\n",
       "  'especially': <gensim.models.keyedvectors.Vocab at 0x253fe1905c0>,\n",
       "  'shakespeare': <gensim.models.keyedvectors.Vocab at 0x253fe190668>,\n",
       "  'allowed': <gensim.models.keyedvectors.Vocab at 0x253fe190550>,\n",
       "  'anywhere': <gensim.models.keyedvectors.Vocab at 0x253fe1905f8>,\n",
       "  'near': <gensim.models.keyedvectors.Vocab at 0x253fe1904e0>,\n",
       "  'theatre': <gensim.models.keyedvectors.Vocab at 0x253fe190588>,\n",
       "  'studio': <gensim.models.keyedvectors.Vocab at 0x253fe190518>,\n",
       "  'syberberg': <gensim.models.keyedvectors.Vocab at 0x253fe1904a8>,\n",
       "  'without': <gensim.models.keyedvectors.Vocab at 0x253fe190400>,\n",
       "  'smallest': <gensim.models.keyedvectors.Vocab at 0x253fe190470>,\n",
       "  'justification': <gensim.models.keyedvectors.Vocab at 0x253fe190438>,\n",
       "  'decided': <gensim.models.keyedvectors.Vocab at 0x253fe1903c8>,\n",
       "  'parsifal': <gensim.models.keyedvectors.Vocab at 0x253fe190320>,\n",
       "  'bisexual': <gensim.models.keyedvectors.Vocab at 0x253fe190390>,\n",
       "  'integration': <gensim.models.keyedvectors.Vocab at 0x253fe190358>,\n",
       "  'title': <gensim.models.keyedvectors.Vocab at 0x253fe190278>,\n",
       "  'stage': <gensim.models.keyedvectors.Vocab at 0x253fe1902e8>,\n",
       "  'kind': <gensim.models.keyedvectors.Vocab at 0x253fe190208>,\n",
       "  'beatnik': <gensim.models.keyedvectors.Vocab at 0x253fe1902b0>,\n",
       "  'babe': <gensim.models.keyedvectors.Vocab at 0x253fe190198>,\n",
       "  'continues': <gensim.models.keyedvectors.Vocab at 0x253fe190240>,\n",
       "  'sing': <gensim.models.keyedvectors.Vocab at 0x253fe1901d0>,\n",
       "  'tenor': <gensim.models.keyedvectors.Vocab at 0x253fe190160>,\n",
       "  'singer': <gensim.models.keyedvectors.Vocab at 0x253fe190128>,\n",
       "  'double': <gensim.models.keyedvectors.Vocab at 0x253fe1900f0>,\n",
       "  'dose': <gensim.models.keyedvectors.Vocab at 0x253fe190048>,\n",
       "  'armin': <gensim.models.keyedvectors.Vocab at 0x253fe1900b8>,\n",
       "  'jordan': <gensim.models.keyedvectors.Vocab at 0x253fe190080>,\n",
       "  'conductor': <gensim.models.keyedvectors.Vocab at 0x253fe190e80>,\n",
       "  'seen': <gensim.models.keyedvectors.Vocab at 0x253fe190f60>,\n",
       "  'face': <gensim.models.keyedvectors.Vocab at 0x253fe190fd0>,\n",
       "  'heard': <gensim.models.keyedvectors.Vocab at 0x253fe190ef0>,\n",
       "  'voice': <gensim.models.keyedvectors.Vocab at 0x253fe190d68>,\n",
       "  'amfortas': <gensim.models.keyedvectors.Vocab at 0x253fe190c88>,\n",
       "  'appears': <gensim.models.keyedvectors.Vocab at 0x253fe190da0>,\n",
       "  'monstrously': <gensim.models.keyedvectors.Vocab at 0x253fe190eb8>,\n",
       "  'exposure': <gensim.models.keyedvectors.Vocab at 0x253fe190940>,\n",
       "  'ate': <gensim.models.keyedvectors.Vocab at 0x253fe190dd8>,\n",
       "  'playing': <gensim.models.keyedvectors.Vocab at 0x253fe190c18>,\n",
       "  'friday': <gensim.models.keyedvectors.Vocab at 0x253fe190978>,\n",
       "  'way': <gensim.models.keyedvectors.Vocab at 0x253fe1909e8>,\n",
       "  'represented': <gensim.models.keyedvectors.Vocab at 0x253fe190cc0>,\n",
       "  'flaccid': <gensim.models.keyedvectors.Vocab at 0x253fe190b70>,\n",
       "  'stuck': <gensim.models.keyedvectors.Vocab at 0x253fe190a58>,\n",
       "  'ill': <gensim.models.keyedvectors.Vocab at 0x253fe190b38>,\n",
       "  'laid': <gensim.models.keyedvectors.Vocab at 0x253fe190a90>,\n",
       "  'turf': <gensim.models.keyedvectors.Vocab at 0x253fe190e48>,\n",
       "  'expedient': <gensim.models.keyedvectors.Vocab at 0x253fe190be0>,\n",
       "  'baffle': <gensim.models.keyedvectors.Vocab at 0x253fe190d30>,\n",
       "  'sometimes': <gensim.models.keyedvectors.Vocab at 0x253fe190e10>,\n",
       "  'piece': <gensim.models.keyedvectors.Vocab at 0x253fe190f28>,\n",
       "  'imperfection': <gensim.models.keyedvectors.Vocab at 0x25393d72208>,\n",
       "  'splice': <gensim.models.keyedvectors.Vocab at 0x25393d721d0>,\n",
       "  'gurnemanz': <gensim.models.keyedvectors.Vocab at 0x25393d72240>,\n",
       "  'mountain': <gensim.models.keyedvectors.Vocab at 0x25393d722e8>,\n",
       "  'pasture': <gensim.models.keyedvectors.Vocab at 0x25393d72278>,\n",
       "  'lush': <gensim.models.keyedvectors.Vocab at 0x25393d72358>,\n",
       "  'provided': <gensim.models.keyedvectors.Vocab at 0x25393d722b0>,\n",
       "  'julie': <gensim.models.keyedvectors.Vocab at 0x25393d72320>,\n",
       "  'andrew': <gensim.models.keyedvectors.Vocab at 0x25393d72390>,\n",
       "  'sound': <gensim.models.keyedvectors.Vocab at 0x25393d723c8>,\n",
       "  'hard': <gensim.models.keyedvectors.Vocab at 0x25393d72470>,\n",
       "  'endure': <gensim.models.keyedvectors.Vocab at 0x25393d72400>,\n",
       "  'trumpet': <gensim.models.keyedvectors.Vocab at 0x25393d724e0>,\n",
       "  'particular': <gensim.models.keyedvectors.Vocab at 0x25393d72438>,\n",
       "  'possessing': <gensim.models.keyedvectors.Vocab at 0x25393d72550>,\n",
       "  'aural': <gensim.models.keyedvectors.Vocab at 0x25393d724a8>,\n",
       "  'glare': <gensim.models.keyedvectors.Vocab at 0x25393d72518>,\n",
       "  'add': <gensim.models.keyedvectors.Vocab at 0x25393d725f8>,\n",
       "  'sort': <gensim.models.keyedvectors.Vocab at 0x25393d72588>,\n",
       "  'fatigue': <gensim.models.keyedvectors.Vocab at 0x25393d72668>,\n",
       "  'uninspired': <gensim.models.keyedvectors.Vocab at 0x25393d725c0>,\n",
       "  'conducting': <gensim.models.keyedvectors.Vocab at 0x25393d72630>,\n",
       "  'unfolding': <gensim.models.keyedvectors.Vocab at 0x25393d72710>,\n",
       "  'ritual': <gensim.models.keyedvectors.Vocab at 0x25393d726a0>,\n",
       "  'someone': <gensim.models.keyedvectors.Vocab at 0x25393d72780>,\n",
       "  'review': <gensim.models.keyedvectors.Vocab at 0x25393d726d8>,\n",
       "  'mentioned': <gensim.models.keyedvectors.Vocab at 0x25393d72748>,\n",
       "  'recording': <gensim.models.keyedvectors.Vocab at 0x25393d72828>,\n",
       "  'tempo': <gensim.models.keyedvectors.Vocab at 0x25393d727b8>,\n",
       "  'often': <gensim.models.keyedvectors.Vocab at 0x25393d72898>,\n",
       "  'altogether': <gensim.models.keyedvectors.Vocab at 0x25393d727f0>,\n",
       "  'lack': <gensim.models.keyedvectors.Vocab at 0x25393d72860>,\n",
       "  'sense': <gensim.models.keyedvectors.Vocab at 0x25393d728d0>,\n",
       "  'pulse': <gensim.models.keyedvectors.Vocab at 0x25393d72908>,\n",
       "  'ebb': <gensim.models.keyedvectors.Vocab at 0x25393d72940>,\n",
       "  'flow': <gensim.models.keyedvectors.Vocab at 0x25393d72978>,\n",
       "  'half': <gensim.models.keyedvectors.Vocab at 0x25393d729b0>,\n",
       "  'century': <gensim.models.keyedvectors.Vocab at 0x25393d729e8>,\n",
       "  'orchestral': <gensim.models.keyedvectors.Vocab at 0x25393d72a20>,\n",
       "  'set': <gensim.models.keyedvectors.Vocab at 0x25393d72a58>,\n",
       "  'modern': <gensim.models.keyedvectors.Vocab at 0x25393d72a90>,\n",
       "  'pressing': <gensim.models.keyedvectors.Vocab at 0x25393d72ac8>,\n",
       "  'still': <gensim.models.keyedvectors.Vocab at 0x25393d72b00>,\n",
       "  'superior': <gensim.models.keyedvectors.Vocab at 0x25393d72b38>,\n",
       "  'superbly': <gensim.models.keyedvectors.Vocab at 0x25393d72b70>,\n",
       "  'trashy': <gensim.models.keyedvectors.Vocab at 0x25393d72ba8>,\n",
       "  'unpretentious': <gensim.models.keyedvectors.Vocab at 0x25393d72be0>,\n",
       "  'exploitation': <gensim.models.keyedvectors.Vocab at 0x25393d72c18>,\n",
       "  'hooray': <gensim.models.keyedvectors.Vocab at 0x25393d72c50>,\n",
       "  'credit': <gensim.models.keyedvectors.Vocab at 0x25393d72c88>,\n",
       "  'opening': <gensim.models.keyedvectors.Vocab at 0x25393d72cc0>,\n",
       "  'somewhat': <gensim.models.keyedvectors.Vocab at 0x25393d72cf8>,\n",
       "  'false': <gensim.models.keyedvectors.Vocab at 0x25393d72d30>,\n",
       "  'impression': <gensim.models.keyedvectors.Vocab at 0x25393d72d68>,\n",
       "  'dealing': <gensim.models.keyedvectors.Vocab at 0x25393d72da0>,\n",
       "  'serious': <gensim.models.keyedvectors.Vocab at 0x25393d72dd8>,\n",
       "  'harrowing': <gensim.models.keyedvectors.Vocab at 0x25393d72e10>,\n",
       "  'drama': <gensim.models.keyedvectors.Vocab at 0x25393d72e48>,\n",
       "  'need': <gensim.models.keyedvectors.Vocab at 0x25393d72e80>,\n",
       "  'fear': <gensim.models.keyedvectors.Vocab at 0x25393d72eb8>,\n",
       "  'barely': <gensim.models.keyedvectors.Vocab at 0x25393d72ef0>,\n",
       "  'ten': <gensim.models.keyedvectors.Vocab at 0x25393d72f28>,\n",
       "  'later': <gensim.models.keyedvectors.Vocab at 0x25393d72f60>,\n",
       "  'neck': <gensim.models.keyedvectors.Vocab at 0x25393d72f98>,\n",
       "  'nonsensical': <gensim.models.keyedvectors.Vocab at 0x25393d72fd0>,\n",
       "  'chainsaw': <gensim.models.keyedvectors.Vocab at 0x25393d7d048>,\n",
       "  'battle': <gensim.models.keyedvectors.Vocab at 0x25393d7d080>,\n",
       "  'rough': <gensim.models.keyedvectors.Vocab at 0x25393d7d0b8>,\n",
       "  'fist': <gensim.models.keyedvectors.Vocab at 0x25393d7d0f0>,\n",
       "  'lurid': <gensim.models.keyedvectors.Vocab at 0x25393d7d128>,\n",
       "  'dialog': <gensim.models.keyedvectors.Vocab at 0x25393d7d160>,\n",
       "  'gratuitous': <gensim.models.keyedvectors.Vocab at 0x25393d7d198>,\n",
       "  'nudity': <gensim.models.keyedvectors.Vocab at 0x25393d7d1d0>,\n",
       "  'bo': <gensim.models.keyedvectors.Vocab at 0x25393d7d208>,\n",
       "  'ingrid': <gensim.models.keyedvectors.Vocab at 0x25393d7d240>,\n",
       "  'two': <gensim.models.keyedvectors.Vocab at 0x25393d7d278>,\n",
       "  'orphaned': <gensim.models.keyedvectors.Vocab at 0x25393d7d2b0>,\n",
       "  'sibling': <gensim.models.keyedvectors.Vocab at 0x25393d7d2e8>,\n",
       "  'unusually': <gensim.models.keyedvectors.Vocab at 0x25393d7d320>,\n",
       "  'close': <gensim.models.keyedvectors.Vocab at 0x25393d7d358>,\n",
       "  'even': <gensim.models.keyedvectors.Vocab at 0x25393d7d390>,\n",
       "  'slightly': <gensim.models.keyedvectors.Vocab at 0x25393d7d3c8>,\n",
       "  'perverted': <gensim.models.keyedvectors.Vocab at 0x25393d7d400>,\n",
       "  'relationship': <gensim.models.keyedvectors.Vocab at 0x25393d7d438>,\n",
       "  'imagine': <gensim.models.keyedvectors.Vocab at 0x25393d7d470>,\n",
       "  'playfully': <gensim.models.keyedvectors.Vocab at 0x25393d7d4a8>,\n",
       "  'ripping': <gensim.models.keyedvectors.Vocab at 0x25393d7d4e0>,\n",
       "  'towel': <gensim.models.keyedvectors.Vocab at 0x25393d7d518>,\n",
       "  'cover': <gensim.models.keyedvectors.Vocab at 0x25393d7d550>,\n",
       "  'sister': <gensim.models.keyedvectors.Vocab at 0x25393d7d588>,\n",
       "  'naked': <gensim.models.keyedvectors.Vocab at 0x25393d7d5c0>,\n",
       "  'body': <gensim.models.keyedvectors.Vocab at 0x25393d7d5f8>,\n",
       "  'stare': <gensim.models.keyedvectors.Vocab at 0x25393d7d630>,\n",
       "  'genitals': <gensim.models.keyedvectors.Vocab at 0x25393d7d668>,\n",
       "  'several': <gensim.models.keyedvectors.Vocab at 0x25393d7d6a0>,\n",
       "  'judging': <gensim.models.keyedvectors.Vocab at 0x25393d7d6d8>,\n",
       "  'dubbed': <gensim.models.keyedvectors.Vocab at 0x25393d7d710>,\n",
       "  'laughter': <gensim.models.keyedvectors.Vocab at 0x25393d7d748>,\n",
       "  'sick': <gensim.models.keyedvectors.Vocab at 0x25393d7d780>,\n",
       "  'dude': <gensim.models.keyedvectors.Vocab at 0x25393d7d7b8>,\n",
       "  'fled': <gensim.models.keyedvectors.Vocab at 0x25393d7d7f0>,\n",
       "  'russia': <gensim.models.keyedvectors.Vocab at 0x25393d7d828>,\n",
       "  'parent': <gensim.models.keyedvectors.Vocab at 0x25393d7d860>,\n",
       "  'nasty': <gensim.models.keyedvectors.Vocab at 0x25393d7d898>,\n",
       "  'soldier': <gensim.models.keyedvectors.Vocab at 0x25393d7d8d0>,\n",
       "  'brutally': <gensim.models.keyedvectors.Vocab at 0x25393d7d908>,\n",
       "  'slaughtered': <gensim.models.keyedvectors.Vocab at 0x25393d7d940>,\n",
       "  'mommy': <gensim.models.keyedvectors.Vocab at 0x25393d7d978>,\n",
       "  'daddy': <gensim.models.keyedvectors.Vocab at 0x25393d7d9b0>,\n",
       "  'friendly': <gensim.models.keyedvectors.Vocab at 0x25393d7d9e8>,\n",
       "  'smuggler': <gensim.models.keyedvectors.Vocab at 0x25393d7da20>,\n",
       "  'took': <gensim.models.keyedvectors.Vocab at 0x25393d7da58>,\n",
       "  'custody': <gensim.models.keyedvectors.Vocab at 0x25393d7da90>,\n",
       "  'raised': <gensim.models.keyedvectors.Vocab at 0x25393d7dac8>,\n",
       "  'trained': <gensim.models.keyedvectors.Vocab at 0x25393d7db00>,\n",
       "  'expert': <gensim.models.keyedvectors.Vocab at 0x25393d7db38>,\n",
       "  'plot': <gensim.models.keyedvectors.Vocab at 0x25393d7db70>,\n",
       "  'lift': <gensim.models.keyedvectors.Vocab at 0x25393d7dba8>,\n",
       "  'facing': <gensim.models.keyedvectors.Vocab at 0x25393d7dbe0>,\n",
       "  'ultimate': <gensim.models.keyedvectors.Vocab at 0x25393d7dc18>,\n",
       "  'quest': <gensim.models.keyedvectors.Vocab at 0x25393d7dc50>,\n",
       "  'mythical': <gensim.models.keyedvectors.Vocab at 0x25393d7dc88>,\n",
       "  'incredibly': <gensim.models.keyedvectors.Vocab at 0x25393d7dcc0>,\n",
       "  'valuable': <gensim.models.keyedvectors.Vocab at 0x25393d7dcf8>,\n",
       "  'white': <gensim.models.keyedvectors.Vocab at 0x25393d7dd30>,\n",
       "  'fire': <gensim.models.keyedvectors.Vocab at 0x25393d7dd68>,\n",
       "  'diamond': <gensim.models.keyedvectors.Vocab at 0x25393d7dda0>,\n",
       "  'coincidentally': <gensim.models.keyedvectors.Vocab at 0x25393d7ddd8>,\n",
       "  'mine': <gensim.models.keyedvectors.Vocab at 0x25393d7de10>,\n",
       "  'life': <gensim.models.keyedvectors.Vocab at 0x25393d7de48>,\n",
       "  'little': <gensim.models.keyedvectors.Vocab at 0x25393d7de80>,\n",
       "  'narrative': <gensim.models.keyedvectors.Vocab at 0x25393d7deb8>,\n",
       "  'structure': <gensim.models.keyedvectors.Vocab at 0x25393d7def0>,\n",
       "  'sure': <gensim.models.keyedvectors.Vocab at 0x25393d7df28>,\n",
       "  'fun': <gensim.models.keyedvectors.Vocab at 0x25393d7df60>,\n",
       "  'watch': <gensim.models.keyedvectors.Vocab at 0x25393d7df98>,\n",
       "  'time': <gensim.models.keyedvectors.Vocab at 0x25393d7dfd0>,\n",
       "  'clue': <gensim.models.keyedvectors.Vocab at 0x25393d7f048>,\n",
       "  'beating': <gensim.models.keyedvectors.Vocab at 0x25393d7f080>,\n",
       "  'cause': <gensim.models.keyedvectors.Vocab at 0x25393d7f0b8>,\n",
       "  'bet': <gensim.models.keyedvectors.Vocab at 0x25393d7f0f0>,\n",
       "  'understood': <gensim.models.keyedvectors.Vocab at 0x25393d7f128>,\n",
       "  'le': <gensim.models.keyedvectors.Vocab at 0x25393d7f160>,\n",
       "  'whatever': <gensim.models.keyedvectors.Vocab at 0x25393d7f198>,\n",
       "  'violence': <gensim.models.keyedvectors.Vocab at 0x25393d7f1d0>,\n",
       "  'magnificently': <gensim.models.keyedvectors.Vocab at 0x25393d7f208>,\n",
       "  'grotesque': <gensim.models.keyedvectors.Vocab at 0x25393d7f240>,\n",
       "  'single': <gensim.models.keyedvectors.Vocab at 0x25393d7f278>,\n",
       "  'twist': <gensim.models.keyedvectors.Vocab at 0x25393d7f2b0>,\n",
       "  'pleasingly': <gensim.models.keyedvectors.Vocab at 0x25393d7f2e8>,\n",
       "  'retarded': <gensim.models.keyedvectors.Vocab at 0x25393d7f320>,\n",
       "  'script': <gensim.models.keyedvectors.Vocab at 0x25393d7f358>,\n",
       "  'bonkers': <gensim.models.keyedvectors.Vocab at 0x25393d7f390>,\n",
       "  'repair': <gensim.models.keyedvectors.Vocab at 0x25393d7f3c8>,\n",
       "  'suddenly': <gensim.models.keyedvectors.Vocab at 0x25393d7f400>,\n",
       "  'reveal': <gensim.models.keyedvectors.Vocab at 0x25393d7f438>,\n",
       "  'reason': <gensim.models.keyedvectors.Vocab at 0x25393d7f470>,\n",
       "  'replacement': <gensim.models.keyedvectors.Vocab at 0x25393d7f4a8>,\n",
       "  'fred': <gensim.models.keyedvectors.Vocab at 0x25393d7f4e0>,\n",
       "  'williamson': <gensim.models.keyedvectors.Vocab at 0x25393d7f518>,\n",
       "  'enters': <gensim.models.keyedvectors.Vocab at 0x25393d7f550>,\n",
       "  'big': <gensim.models.keyedvectors.Vocab at 0x25393d7f588>,\n",
       "  'cigar': <gensim.models.keyedvectors.Vocab at 0x25393d7f5c0>,\n",
       "  'mouth': <gensim.models.keyedvectors.Vocab at 0x25393d7f5f8>,\n",
       "  'sleazy': <gensim.models.keyedvectors.Vocab at 0x25393d7f630>,\n",
       "  'black': <gensim.models.keyedvectors.Vocab at 0x25393d7f668>,\n",
       "  'finger': <gensim.models.keyedvectors.Vocab at 0x25393d7f6a0>,\n",
       "  'local': <gensim.models.keyedvectors.Vocab at 0x25393d7f6d8>,\n",
       "  'prostitute': <gensim.models.keyedvectors.Vocab at 0x25393d7f710>,\n",
       "  'principal': <gensim.models.keyedvectors.Vocab at 0x25393d7f748>,\n",
       "  'opponent': <gensim.models.keyedvectors.Vocab at 0x25393d7f780>,\n",
       "  'italian': <gensim.models.keyedvectors.Vocab at 0x25393d7f7b8>,\n",
       "  'chick': <gensim.models.keyedvectors.Vocab at 0x25393d7f7f0>,\n",
       "  'breast': <gensim.models.keyedvectors.Vocab at 0x25393d7f828>,\n",
       "  'hideous': <gensim.models.keyedvectors.Vocab at 0x25393d7f860>,\n",
       "  'accent': <gensim.models.keyedvectors.Vocab at 0x25393d7f898>,\n",
       "  'preposterous': <gensim.models.keyedvectors.Vocab at 0x25393d7f8d0>,\n",
       "  'catchy': <gensim.models.keyedvectors.Vocab at 0x25393d7f908>,\n",
       "  'theme': <gensim.models.keyedvectors.Vocab at 0x25393d7f940>,\n",
       "  'least': <gensim.models.keyedvectors.Vocab at 0x25393d7f978>,\n",
       "  'dozen': <gensim.models.keyedvectors.Vocab at 0x25393d7f9b0>,\n",
       "  'throughout': <gensim.models.keyedvectors.Vocab at 0x25393d7f9e8>,\n",
       "  'obligatory': <gensim.models.keyedvectors.Vocab at 0x25393d7fa20>,\n",
       "  'falling': <gensim.models.keyedvectors.Vocab at 0x25393d7fa58>,\n",
       "  'love': <gensim.models.keyedvectors.Vocab at 0x25393d7fa90>,\n",
       "  'montage': <gensim.models.keyedvectors.Vocab at 0x25393d7fac8>,\n",
       "  'load': <gensim.models.keyedvectors.Vocab at 0x25393d7fb00>,\n",
       "  'attraction': <gensim.models.keyedvectors.Vocab at 0x25393d7fb38>,\n",
       "  'god': <gensim.models.keyedvectors.Vocab at 0x25393d7fb70>,\n",
       "  'brilliant': <gensim.models.keyedvectors.Vocab at 0x25393d7fba8>,\n",
       "  'experience': <gensim.models.keyedvectors.Vocab at 0x25393d7fbe0>,\n",
       "  'original': <gensim.models.keyedvectors.Vocab at 0x25393d7fc18>,\n",
       "  'french': <gensim.models.keyedvectors.Vocab at 0x25393d7fc50>,\n",
       "  'translates': <gensim.models.keyedvectors.Vocab at 0x25393d7fc88>,\n",
       "  'survive': <gensim.models.keyedvectors.Vocab at 0x25393d7fcc0>,\n",
       "  'uniquely': <gensim.models.keyedvectors.Vocab at 0x25393d7fcf8>,\n",
       "  'appropriate': <gensim.models.keyedvectors.Vocab at 0x25393d7fd30>,\n",
       "  'rest': <gensim.models.keyedvectors.Vocab at 0x25393d7fd68>,\n",
       "  'none': <gensim.models.keyedvectors.Vocab at 0x25393d7fda0>,\n",
       "  'dont': <gensim.models.keyedvectors.Vocab at 0x25393d7fdd8>,\n",
       "  'got': <gensim.models.keyedvectors.Vocab at 0x25393d7fe10>,\n",
       "  'pretty': <gensim.models.keyedvectors.Vocab at 0x25393d7fe48>,\n",
       "  'action': <gensim.models.keyedvectors.Vocab at 0x25393d7fe80>,\n",
       "  'change': <gensim.models.keyedvectors.Vocab at 0x25393d7feb8>,\n",
       "  'location': <gensim.models.keyedvectors.Vocab at 0x25393d7fef0>,\n",
       "  'harry': <gensim.models.keyedvectors.Vocab at 0x25393d7ff28>,\n",
       "  'hurt': <gensim.models.keyedvectors.Vocab at 0x25393d7ff60>,\n",
       "  'offensive': <gensim.models.keyedvectors.Vocab at 0x25393d7ff98>,\n",
       "  'eastwood': <gensim.models.keyedvectors.Vocab at 0x25393d7ffd0>,\n",
       "  'form': <gensim.models.keyedvectors.Vocab at 0x25388d43048>,\n",
       "  'dirty': <gensim.models.keyedvectors.Vocab at 0x25388d43080>,\n",
       "  'liked': <gensim.models.keyedvectors.Vocab at 0x25388d430b8>,\n",
       "  'pat': <gensim.models.keyedvectors.Vocab at 0x25388d430f0>,\n",
       "  'hingle': <gensim.models.keyedvectors.Vocab at 0x25388d43128>,\n",
       "  'town': <gensim.models.keyedvectors.Vocab at 0x25388d43160>,\n",
       "  'cop': <gensim.models.keyedvectors.Vocab at 0x25388d43198>,\n",
       "  'pool': <gensim.models.keyedvectors.Vocab at 0x25388d431d0>,\n",
       "  'could': <gensim.models.keyedvectors.Vocab at 0x25388d43208>,\n",
       "  'short': <gensim.models.keyedvectors.Vocab at 0x25388d43240>,\n",
       "  'cheesy': <gensim.models.keyedvectors.Vocab at 0x25388d43278>,\n",
       "  'acting': <gensim.models.keyedvectors.Vocab at 0x25388d432b0>,\n",
       "  'looked': <gensim.models.keyedvectors.Vocab at 0x25388d432e8>,\n",
       "  'past': <gensim.models.keyedvectors.Vocab at 0x25388d43320>,\n",
       "  'background': <gensim.models.keyedvectors.Vocab at 0x25388d43358>,\n",
       "  'around': <gensim.models.keyedvectors.Vocab at 0x25388d43390>,\n",
       "  'evil': <gensim.models.keyedvectors.Vocab at 0x25388d433c8>,\n",
       "  'druid': <gensim.models.keyedvectors.Vocab at 0x25388d43400>,\n",
       "  'witch': <gensim.models.keyedvectors.Vocab at 0x25388d43438>,\n",
       "  'linked': <gensim.models.keyedvectors.Vocab at 0x25388d43470>,\n",
       "  'woman': <gensim.models.keyedvectors.Vocab at 0x25388d434a8>,\n",
       "  'migraine': <gensim.models.keyedvectors.Vocab at 0x25388d434e0>,\n",
       "  'drag': <gensim.models.keyedvectors.Vocab at 0x25388d43518>,\n",
       "  'clearly': <gensim.models.keyedvectors.Vocab at 0x25388d43550>,\n",
       "  'explains': <gensim.models.keyedvectors.Vocab at 0x25388d43588>,\n",
       "  'keep': <gensim.models.keyedvectors.Vocab at 0x25388d435c0>,\n",
       "  'plodding': <gensim.models.keyedvectors.Vocab at 0x25388d435f8>,\n",
       "  'christopher': <gensim.models.keyedvectors.Vocab at 0x25388d43630>,\n",
       "  'walken': <gensim.models.keyedvectors.Vocab at 0x25388d43668>,\n",
       "  'completely': <gensim.models.keyedvectors.Vocab at 0x25388d436a0>,\n",
       "  'senseless': <gensim.models.keyedvectors.Vocab at 0x25388d436d8>,\n",
       "  'potential': <gensim.models.keyedvectors.Vocab at 0x25388d43710>,\n",
       "  'tv': <gensim.models.keyedvectors.Vocab at 0x25388d43748>,\n",
       "  'avoid': <gensim.models.keyedvectors.Vocab at 0x25388d43780>,\n",
       "  'video': <gensim.models.keyedvectors.Vocab at 0x25388d437b8>,\n",
       "  'friend': <gensim.models.keyedvectors.Vocab at 0x25388d437f0>,\n",
       "  'house': <gensim.models.keyedvectors.Vocab at 0x25388d43828>,\n",
       "  'glad': <gensim.models.keyedvectors.Vocab at 0x25388d43860>,\n",
       "  'waste': <gensim.models.keyedvectors.Vocab at 0x25388d43898>,\n",
       "  'money': <gensim.models.keyedvectors.Vocab at 0x25388d438d0>,\n",
       "  'buying': <gensim.models.keyedvectors.Vocab at 0x25388d43908>,\n",
       "  'clip': <gensim.models.keyedvectors.Vocab at 0x25388d43940>,\n",
       "  'rocket': <gensim.models.keyedvectors.Vocab at 0x25388d43978>,\n",
       "  'blow': <gensim.models.keyedvectors.Vocab at 0x25388d439b0>,\n",
       "  'ups': <gensim.models.keyedvectors.Vocab at 0x25388d439e8>,\n",
       "  'related': <gensim.models.keyedvectors.Vocab at 0x25388d43a20>,\n",
       "  'manned': <gensim.models.keyedvectors.Vocab at 0x25388d43a58>,\n",
       "  'flight': <gensim.models.keyedvectors.Vocab at 0x25388d43a90>,\n",
       "  'sibrel': <gensim.models.keyedvectors.Vocab at 0x25388d43ac8>,\n",
       "  'smoking': <gensim.models.keyedvectors.Vocab at 0x25388d43b00>,\n",
       "  'gun': <gensim.models.keyedvectors.Vocab at 0x25388d43b38>,\n",
       "  'astronaut': <gensim.models.keyedvectors.Vocab at 0x25388d43b70>,\n",
       "  'preparing': <gensim.models.keyedvectors.Vocab at 0x25388d43ba8>,\n",
       "  'broadcast': <gensim.models.keyedvectors.Vocab at 0x25388d43be0>,\n",
       "  'edits': <gensim.models.keyedvectors.Vocab at 0x25388d43c18>,\n",
       "  'instead': <gensim.models.keyedvectors.Vocab at 0x25388d43c50>,\n",
       "  'letting': <gensim.models.keyedvectors.Vocab at 0x25388d43c88>,\n",
       "  'u': <gensim.models.keyedvectors.Vocab at 0x25388d43cc0>,\n",
       "  'listen': <gensim.models.keyedvectors.Vocab at 0x25388d43cf8>,\n",
       "  'crew': <gensim.models.keyedvectors.Vocab at 0x25388d43d30>,\n",
       "  'curiously': <gensim.models.keyedvectors.Vocab at 0x25388d43d68>,\n",
       "  'end': <gensim.models.keyedvectors.Vocab at 0x25388d43da0>,\n",
       "  'showing': <gensim.models.keyedvectors.Vocab at 0x25388d43dd8>,\n",
       "  'claim': <gensim.models.keyedvectors.Vocab at 0x25388d43e10>,\n",
       "  'radiation': <gensim.models.keyedvectors.Vocab at 0x25388d43e48>,\n",
       "  'photography': <gensim.models.keyedvectors.Vocab at 0x25388d43e80>,\n",
       "  'lead': <gensim.models.keyedvectors.Vocab at 0x25388d43eb8>,\n",
       "  'believe': <gensim.models.keyedvectors.Vocab at 0x25388d43ef0>,\n",
       "  'ignorant': <gensim.models.keyedvectors.Vocab at 0x25388d43f28>,\n",
       "  'ax': <gensim.models.keyedvectors.Vocab at 0x25388d43f60>,\n",
       "  'grind': <gensim.models.keyedvectors.Vocab at 0x25388d43f98>,\n",
       "  'nasa': <gensim.models.keyedvectors.Vocab at 0x25388d43fd0>,\n",
       "  'american': <gensim.models.keyedvectors.Vocab at 0x25388d46048>,\n",
       "  'general': <gensim.models.keyedvectors.Vocab at 0x25388d46080>,\n",
       "  'science': <gensim.models.keyedvectors.Vocab at 0x25388d460b8>,\n",
       "  'bought': <gensim.models.keyedvectors.Vocab at 0x25388d460f0>,\n",
       "  'grossly': <gensim.models.keyedvectors.Vocab at 0x25388d46128>,\n",
       "  'despite': <gensim.models.keyedvectors.Vocab at 0x25388d46160>,\n",
       "  'featuring': <gensim.models.keyedvectors.Vocab at 0x25388d46198>,\n",
       "  'name': <gensim.models.keyedvectors.Vocab at 0x25388d461d0>,\n",
       "  'adam': <gensim.models.keyedvectors.Vocab at 0x25388d46208>,\n",
       "  'sandler': <gensim.models.keyedvectors.Vocab at 0x25388d46240>,\n",
       "  'billy': <gensim.models.keyedvectors.Vocab at 0x25388d46278>,\n",
       "  'bob': <gensim.models.keyedvectors.Vocab at 0x25388d462b0>,\n",
       "  'thornton': <gensim.models.keyedvectors.Vocab at 0x25388d462e8>,\n",
       "  'burt': <gensim.models.keyedvectors.Vocab at 0x25388d46320>,\n",
       "  'young': <gensim.models.keyedvectors.Vocab at 0x25388d46358>,\n",
       "  'funny': <gensim.models.keyedvectors.Vocab at 0x25388d46390>,\n",
       "  'taking': <gensim.models.keyedvectors.Vocab at 0x25388d463c8>,\n",
       "  'hammering': <gensim.models.keyedvectors.Vocab at 0x25388d46400>,\n",
       "  'straight': <gensim.models.keyedvectors.Vocab at 0x25388d46438>,\n",
       "  'us': <gensim.models.keyedvectors.Vocab at 0x25388d46470>,\n",
       "  'tired': <gensim.models.keyedvectors.Vocab at 0x25388d464a8>,\n",
       "  'comedic': <gensim.models.keyedvectors.Vocab at 0x25388d464e0>,\n",
       "  'technique': <gensim.models.keyedvectors.Vocab at 0x25388d46518>,\n",
       "  'consistently': <gensim.models.keyedvectors.Vocab at 0x25388d46550>,\n",
       "  'breaking': <gensim.models.keyedvectors.Vocab at 0x25388d46588>,\n",
       "  'fourth': <gensim.models.keyedvectors.Vocab at 0x25388d465c0>,\n",
       "  'talk': <gensim.models.keyedvectors.Vocab at 0x25388d465f8>,\n",
       "  'audience': <gensim.models.keyedvectors.Vocab at 0x25388d46630>,\n",
       "  'seemingly': <gensim.models.keyedvectors.Vocab at 0x25388d46668>,\n",
       "  'pointless': <gensim.models.keyedvectors.Vocab at 0x25388d466a0>,\n",
       "  'hot': <gensim.models.keyedvectors.Vocab at 0x25388d466d8>,\n",
       "  'waiter': <gensim.models.keyedvectors.Vocab at 0x25388d46710>,\n",
       "  'ship': <gensim.models.keyedvectors.Vocab at 0x25388d46748>,\n",
       "  'successful': <gensim.models.keyedvectors.Vocab at 0x25388d46780>,\n",
       "  'comedian': <gensim.models.keyedvectors.Vocab at 0x25388d467b8>,\n",
       "  'order': <gensim.models.keyedvectors.Vocab at 0x25388d467f0>,\n",
       "  'become': <gensim.models.keyedvectors.Vocab at 0x25388d46828>,\n",
       "  'resident': <gensim.models.keyedvectors.Vocab at 0x25388d46860>,\n",
       "  'shamelessly': <gensim.models.keyedvectors.Vocab at 0x25388d46898>,\n",
       "  'named': <gensim.models.keyedvectors.Vocab at 0x25388d468d0>,\n",
       "  'dickie': <gensim.models.keyedvectors.Vocab at 0x25388d46908>,\n",
       "  'due': <gensim.models.keyedvectors.Vocab at 0x25388d46940>,\n",
       "  'unfathomable': <gensim.models.keyedvectors.Vocab at 0x25388d46978>,\n",
       "  'success': <gensim.models.keyedvectors.Vocab at 0x25388d469b0>,\n",
       "  'opposite': <gensim.models.keyedvectors.Vocab at 0x25388d469e8>,\n",
       "  'gender': <gensim.models.keyedvectors.Vocab at 0x25388d46a20>,\n",
       "  'presumed': <gensim.models.keyedvectors.Vocab at 0x25388d46a58>,\n",
       "  'lost': <gensim.models.keyedvectors.Vocab at 0x25388d46a90>,\n",
       "  'sea': <gensim.models.keyedvectors.Vocab at 0x25388d46ac8>,\n",
       "  'break': <gensim.models.keyedvectors.Vocab at 0x25388d46b00>,\n",
       "  'rather': <gensim.models.keyedvectors.Vocab at 0x25388d46b38>,\n",
       "  'locked': <gensim.models.keyedvectors.Vocab at 0x25388d46b70>,\n",
       "  'bathroom': <gensim.models.keyedvectors.Vocab at 0x25388d46ba8>,\n",
       "  'presumably': <gensim.models.keyedvectors.Vocab at 0x25388d46be0>,\n",
       "  'perhaps': <gensim.models.keyedvectors.Vocab at 0x25388d46c18>,\n",
       "  'vomited': <gensim.models.keyedvectors.Vocab at 0x25388d46c50>,\n",
       "  'worst': <gensim.models.keyedvectors.Vocab at 0x25388d46c88>,\n",
       "  'reference': <gensim.models.keyedvectors.Vocab at 0x25388d46cc0>,\n",
       "  'mad': <gensim.models.keyedvectors.Vocab at 0x25388d46cf8>,\n",
       "  'max': <gensim.models.keyedvectors.Vocab at 0x25388d46d30>,\n",
       "  'ii': <gensim.models.keyedvectors.Vocab at 0x25388d46d68>,\n",
       "  'wild': <gensim.models.keyedvectors.Vocab at 0x25388d46da0>,\n",
       "  'ladybug': <gensim.models.keyedvectors.Vocab at 0x25388d46dd8>,\n",
       "  'clear': <gensim.models.keyedvectors.Vocab at 0x25388d46e10>,\n",
       "  'tribute': <gensim.models.keyedvectors.Vocab at 0x25388d46e48>,\n",
       "  'peter': <gensim.models.keyedvectors.Vocab at 0x25388d46e80>,\n",
       "  'lorre': <gensim.models.keyedvectors.Vocab at 0x25388d46eb8>,\n",
       "  'masterpiece': <gensim.models.keyedvectors.Vocab at 0x25388d46ef0>,\n",
       "  'future': <gensim.models.keyedvectors.Vocab at 0x25388d46f28>,\n",
       "  'happens': <gensim.models.keyedvectors.Vocab at 0x25388d46f60>,\n",
       "  'army': <gensim.models.keyedvectors.Vocab at 0x25388d46f98>,\n",
       "  'godless': <gensim.models.keyedvectors.Vocab at 0x25388d46fd0>,\n",
       "  'eastern': <gensim.models.keyedvectors.Vocab at 0x25388d4a048>,\n",
       "  'european': <gensim.models.keyedvectors.Vocab at 0x25388d4a080>,\n",
       "  'commie': <gensim.models.keyedvectors.Vocab at 0x25388d4a0b8>,\n",
       "  'gather': <gensim.models.keyedvectors.Vocab at 0x25388d4a0f0>,\n",
       "  'force': <gensim.models.keyedvectors.Vocab at 0x25388d4a128>,\n",
       "  'south': <gensim.models.keyedvectors.Vocab at 0x25388d4a160>,\n",
       "  'border': <gensim.models.keyedvectors.Vocab at 0x25388d4a198>,\n",
       "  'gary': <gensim.models.keyedvectors.Vocab at 0x25388d4a1d0>,\n",
       "  'busey': <gensim.models.keyedvectors.Vocab at 0x25388d4a208>,\n",
       "  'kick': <gensim.models.keyedvectors.Vocab at 0x25388d4a240>,\n",
       "  'butt': <gensim.models.keyedvectors.Vocab at 0x25388d4a278>,\n",
       "  'laughable': <gensim.models.keyedvectors.Vocab at 0x25388d4a2b0>,\n",
       "  'example': <gensim.models.keyedvectors.Vocab at 0x25388d4a2e8>,\n",
       "  'reagan': <gensim.models.keyedvectors.Vocab at 0x25388d4a320>,\n",
       "  'era': <gensim.models.keyedvectors.Vocab at 0x25388d4a358>,\n",
       "  'cultural': <gensim.models.keyedvectors.Vocab at 0x25388d4a390>,\n",
       "  'fallout': <gensim.models.keyedvectors.Vocab at 0x25388d4a3c8>,\n",
       "  'bulletproof': <gensim.models.keyedvectors.Vocab at 0x25388d4a400>,\n",
       "  'decent': <gensim.models.keyedvectors.Vocab at 0x25388d4a438>,\n",
       "  'supporting': <gensim.models.keyedvectors.Vocab at 0x25388d4a470>,\n",
       "  'cast': <gensim.models.keyedvectors.Vocab at 0x25388d4a4a8>,\n",
       "  'headed': <gensim.models.keyedvectors.Vocab at 0x25388d4a4e0>,\n",
       "  'q': <gensim.models.keyedvectors.Vocab at 0x25388d4a518>,\n",
       "  'jones': <gensim.models.keyedvectors.Vocab at 0x25388d4a550>,\n",
       "  'although': <gensim.models.keyedvectors.Vocab at 0x25388d4a588>,\n",
       "  'generally': <gensim.models.keyedvectors.Vocab at 0x25388d4a5c0>,\n",
       "  'remake': <gensim.models.keyedvectors.Vocab at 0x25388d4a5f8>,\n",
       "  'believing': <gensim.models.keyedvectors.Vocab at 0x25388d4a630>,\n",
       "  'exception': <gensim.models.keyedvectors.Vocab at 0x25388d4a668>,\n",
       "  'actually': <gensim.models.keyedvectors.Vocab at 0x25388d4a6a0>,\n",
       "  'far': <gensim.models.keyedvectors.Vocab at 0x25388d4a6d8>,\n",
       "  'comment': <gensim.models.keyedvectors.Vocab at 0x25388d4a710>,\n",
       "  'opinion': <gensim.models.keyedvectors.Vocab at 0x25388d4a748>,\n",
       "  'purely': <gensim.models.keyedvectors.Vocab at 0x25388d4a780>,\n",
       "  'comparison': <gensim.models.keyedvectors.Vocab at 0x25388d4a7b8>,\n",
       "  'written': <gensim.models.keyedvectors.Vocab at 0x25388d4a7f0>,\n",
       "  'question': <gensim.models.keyedvectors.Vocab at 0x25388d4a828>,\n",
       "  'capote': <gensim.models.keyedvectors.Vocab at 0x25388d4a860>,\n",
       "  'word': <gensim.models.keyedvectors.Vocab at 0x25388d4a898>,\n",
       "  'anthony': <gensim.models.keyedvectors.Vocab at 0x25388d4a8d0>,\n",
       "  'edward': <gensim.models.keyedvectors.Vocab at 0x25388d4a908>,\n",
       "  'eric': <gensim.models.keyedvectors.Vocab at 0x25388d4a940>,\n",
       "  'superb': <gensim.models.keyedvectors.Vocab at 0x25388d4a978>,\n",
       "  'case': <gensim.models.keyedvectors.Vocab at 0x25388d4a9b0>,\n",
       "  'always': <gensim.models.keyedvectors.Vocab at 0x25388d4a9e8>,\n",
       "  'wondered': <gensim.models.keyedvectors.Vocab at 0x25388d4aa20>,\n",
       "  'number': <gensim.models.keyedvectors.Vocab at 0x25388d4aa58>,\n",
       "  'famous': <gensim.models.keyedvectors.Vocab at 0x25388d4aa90>,\n",
       "  'brother': <gensim.models.keyedvectors.Vocab at 0x25388d4aac8>,\n",
       "  'certainty': <gensim.models.keyedvectors.Vocab at 0x25388d4ab00>,\n",
       "  'top': <gensim.models.keyedvectors.Vocab at 0x25388d4ab38>,\n",
       "  'profession': <gensim.models.keyedvectors.Vocab at 0x25388d4ab70>,\n",
       "  'recommend': <gensim.models.keyedvectors.Vocab at 0x25388d4aba8>,\n",
       "  'dvd': <gensim.models.keyedvectors.Vocab at 0x25388d4abe0>,\n",
       "  'shelf': <gensim.models.keyedvectors.Vocab at 0x25388d4ac18>,\n",
       "  'harvey': <gensim.models.keyedvectors.Vocab at 0x25388d4ac50>,\n",
       "  'light': <gensim.models.keyedvectors.Vocab at 0x25388d4ac88>,\n",
       "  'candle': <gensim.models.keyedvectors.Vocab at 0x25388d4acc0>,\n",
       "  'anchored': <gensim.models.keyedvectors.Vocab at 0x25388d4acf8>,\n",
       "  'spall': <gensim.models.keyedvectors.Vocab at 0x25388d4ad30>,\n",
       "  'predict': <gensim.models.keyedvectors.Vocab at 0x25388d4ad68>,\n",
       "  'titular': <gensim.models.keyedvectors.Vocab at 0x25388d4ada0>,\n",
       "  'morose': <gensim.models.keyedvectors.Vocab at 0x25388d4add8>,\n",
       "  'tight': <gensim.models.keyedvectors.Vocab at 0x25388d4ae10>,\n",
       "  'teacher': <gensim.models.keyedvectors.Vocab at 0x25388d4ae48>,\n",
       "  'catharsis': <gensim.models.keyedvectors.Vocab at 0x25388d4ae80>,\n",
       "  'based': <gensim.models.keyedvectors.Vocab at 0x25388d4aeb8>,\n",
       "  'deep': <gensim.models.keyedvectors.Vocab at 0x25388d4aef0>,\n",
       "  'emotion': <gensim.models.keyedvectors.Vocab at 0x25388d4af28>,\n",
       "  'unveiled': <gensim.models.keyedvectors.Vocab at 0x25388d4af60>,\n",
       "  'surprising': <gensim.models.keyedvectors.Vocab at 0x25388d4af98>,\n",
       "  'range': <gensim.models.keyedvectors.Vocab at 0x25388d4afd0>,\n",
       "  'conveyed': <gensim.models.keyedvectors.Vocab at 0x25388d4b048>,\n",
       "  'moving': <gensim.models.keyedvectors.Vocab at 0x25388d4b080>,\n",
       "  'portray': <gensim.models.keyedvectors.Vocab at 0x25388d4b0b8>,\n",
       "  'mike': <gensim.models.keyedvectors.Vocab at 0x25388d4b0f0>,\n",
       "  'leigh': <gensim.models.keyedvectors.Vocab at 0x25388d4b128>,\n",
       "  'expected': <gensim.models.keyedvectors.Vocab at 0x25388d4b160>,\n",
       "  'school': <gensim.models.keyedvectors.Vocab at 0x25388d4b198>,\n",
       "  'bus': <gensim.models.keyedvectors.Vocab at 0x25388d4b1d0>,\n",
       "  'trip': <gensim.models.keyedvectors.Vocab at 0x25388d4b208>,\n",
       "  'used': <gensim.models.keyedvectors.Vocab at 0x25388d4b240>,\n",
       "  'comic': <gensim.models.keyedvectors.Vocab at 0x25388d4b278>,\n",
       "  'purpose': <gensim.models.keyedvectors.Vocab at 0x25388d4b2b0>,\n",
       "  'simpson': <gensim.models.keyedvectors.Vocab at 0x25388d4b2e8>,\n",
       "  'central': <gensim.models.keyedvectors.Vocab at 0x25388d4b320>,\n",
       "  'situation': <gensim.models.keyedvectors.Vocab at 0x25388d4b358>,\n",
       "  'visit': <gensim.models.keyedvectors.Vocab at 0x25388d4b390>,\n",
       "  'cathedral': <gensim.models.keyedvectors.Vocab at 0x25388d4b3c8>,\n",
       "  'brook': <gensim.models.keyedvectors.Vocab at 0x25388d4b400>,\n",
       "  'contained': <gensim.models.keyedvectors.Vocab at 0x25388d4b438>,\n",
       "  'structured': <gensim.models.keyedvectors.Vocab at 0x25388d4b470>,\n",
       "  'dramatic': <gensim.models.keyedvectors.Vocab at 0x25388d4b4a8>,\n",
       "  'almost': <gensim.models.keyedvectors.Vocab at 0x25388d4b4e0>,\n",
       "  'divided': <gensim.models.keyedvectors.Vocab at 0x25388d4b518>,\n",
       "  'act': <gensim.models.keyedvectors.Vocab at 0x25388d4b550>,\n",
       "  'introduced': <gensim.models.keyedvectors.Vocab at 0x25388d4b588>,\n",
       "  'urban': <gensim.models.keyedvectors.Vocab at 0x25388d4b5c0>,\n",
       "  'british': <gensim.models.keyedvectors.Vocab at 0x25388d4b5f8>,\n",
       "  'racially': <gensim.models.keyedvectors.Vocab at 0x25388d4b630>,\n",
       "  'religiously': <gensim.models.keyedvectors.Vocab at 0x25388d4b668>,\n",
       "  'diverse': <gensim.models.keyedvectors.Vocab at 0x25388d4b6a0>,\n",
       "  'uniform': <gensim.models.keyedvectors.Vocab at 0x25388d4b6d8>,\n",
       "  'tell': <gensim.models.keyedvectors.Vocab at 0x25388d4b710>,\n",
       "  'private': <gensim.models.keyedvectors.Vocab at 0x25388d4b748>,\n",
       "  'public': <gensim.models.keyedvectors.Vocab at 0x25388d4b780>,\n",
       "  'rapping': <gensim.models.keyedvectors.Vocab at 0x25388d4b7b8>,\n",
       "  'asian': <gensim.models.keyedvectors.Vocab at 0x25388d4b7f0>,\n",
       "  'muslim': <gensim.models.keyedvectors.Vocab at 0x25388d4b828>,\n",
       "  'bully': <gensim.models.keyedvectors.Vocab at 0x25388d4b860>,\n",
       "  'mean': <gensim.models.keyedvectors.Vocab at 0x25388d4b898>,\n",
       "  'naturally': <gensim.models.keyedvectors.Vocab at 0x25388d4b8d0>,\n",
       "  'individually': <gensim.models.keyedvectors.Vocab at 0x25388d4b908>,\n",
       "  'recognized': <gensim.models.keyedvectors.Vocab at 0x25388d4b940>,\n",
       "  'shameless': <gensim.models.keyedvectors.Vocab at 0x25388d4b978>,\n",
       "  'exuberant': <gensim.models.keyedvectors.Vocab at 0x25388d4b9b0>,\n",
       "  'representing': <gensim.models.keyedvectors.Vocab at 0x25388d4b9e8>,\n",
       "  'usual': <gensim.models.keyedvectors.Vocab at 0x25388d4ba20>,\n",
       "  'junior': <gensim.models.keyedvectors.Vocab at 0x25388d4ba58>,\n",
       "  'social': <gensim.models.keyedvectors.Vocab at 0x25388d4ba90>,\n",
       "  'pressure': <gensim.models.keyedvectors.Vocab at 0x25388d4bac8>,\n",
       "  'celia': <gensim.models.keyedvectors.Vocab at 0x25388d4bb00>,\n",
       "  'warmth': <gensim.models.keyedvectors.Vocab at 0x25388d4bb38>,\n",
       "  'supervisor': <gensim.models.keyedvectors.Vocab at 0x25388d4bb70>,\n",
       "  'role': <gensim.models.keyedvectors.Vocab at 0x25388d4bba8>,\n",
       "  'transformative': <gensim.models.keyedvectors.Vocab at 0x25388d4bbe0>,\n",
       "  'crisis': <gensim.models.keyedvectors.Vocab at 0x25388d4bc18>,\n",
       "  'remain': <gensim.models.keyedvectors.Vocab at 0x25388d4bc50>,\n",
       "  'amusingly': <gensim.models.keyedvectors.Vocab at 0x25388d4bc88>,\n",
       "  'oblivious': <gensim.models.keyedvectors.Vocab at 0x25388d4bcc0>,\n",
       "  'portrayed': <gensim.models.keyedvectors.Vocab at 0x25388d4bcf8>,\n",
       "  'ben': <gensim.models.keyedvectors.Vocab at 0x25388d4bd30>,\n",
       "  'mile': <gensim.models.keyedvectors.Vocab at 0x25388d4bd68>,\n",
       "  'coupling': <gensim.models.keyedvectors.Vocab at 0x25388d4bda0>,\n",
       "  'spoon': <gensim.models.keyedvectors.Vocab at 0x25388d4bdd8>,\n",
       "  'fed': <gensim.models.keyedvectors.Vocab at 0x25388d4be10>,\n",
       "  'didactic': <gensim.models.keyedvectors.Vocab at 0x25388d4be48>,\n",
       "  'lesson': <gensim.models.keyedvectors.Vocab at 0x25388d4be80>,\n",
       "  'religious': <gensim.models.keyedvectors.Vocab at 0x25388d4beb8>,\n",
       "  'tolerance': <gensim.models.keyedvectors.Vocab at 0x25388d4bef0>,\n",
       "  'faith': <gensim.models.keyedvectors.Vocab at 0x25388d4bf28>,\n",
       "  'bbc': <gensim.models.keyedvectors.Vocab at 0x25388d4bf60>,\n",
       "  'showed': <gensim.models.keyedvectors.Vocab at 0x25388d4bf98>,\n",
       "  'england': <gensim.models.keyedvectors.Vocab at 0x25388d4bfd0>,\n",
       "  'easter': <gensim.models.keyedvectors.Vocab at 0x25388d4f048>,\n",
       "  'america': <gensim.models.keyedvectors.Vocab at 0x25388d4f080>,\n",
       "  'christmas': <gensim.models.keyedvectors.Vocab at 0x25388d4f0b8>,\n",
       "  'nathalie': <gensim.models.keyedvectors.Vocab at 0x25388d4f0f0>,\n",
       "  'summer': <gensim.models.keyedvectors.Vocab at 0x25388d4f128>,\n",
       "  'key': <gensim.models.keyedvectors.Vocab at 0x25388d4f160>,\n",
       "  'redemption': <gensim.models.keyedvectors.Vocab at 0x25388d4f198>,\n",
       "  'played': <gensim.models.keyedvectors.Vocab at 0x25388d4f1d0>,\n",
       "  'week': <gensim.models.keyedvectors.Vocab at 0x25388d4f208>,\n",
       "  'preaching': <gensim.models.keyedvectors.Vocab at 0x25388d4f240>,\n",
       "  'touching': <gensim.models.keyedvectors.Vocab at 0x25388d4f278>,\n",
       "  'reach': <gensim.models.keyedvectors.Vocab at 0x25388d4f2b0>,\n",
       "  'unexpected': <gensim.models.keyedvectors.Vocab at 0x25388d4f2e8>,\n",
       "  'unfortunately': <gensim.models.keyedvectors.Vocab at 0x25388d4f320>,\n",
       "  'saw': <gensim.models.keyedvectors.Vocab at 0x25388d4f358>,\n",
       "  'intense': <gensim.models.keyedvectors.Vocab at 0x25388d4f390>,\n",
       "  'interrupted': <gensim.models.keyedvectors.Vocab at 0x25388d4f3c8>,\n",
       "  'commercial': <gensim.models.keyedvectors.Vocab at 0x25388d4f400>,\n",
       "  'heavy': <gensim.models.keyedvectors.Vocab at 0x25388d4f438>,\n",
       "  'handed': <gensim.models.keyedvectors.Vocab at 0x25388d4f470>,\n",
       "  'pointedly': <gensim.models.keyedvectors.Vocab at 0x25388d4f4a8>,\n",
       "  'calling': <gensim.models.keyedvectors.Vocab at 0x25388d4f4e0>,\n",
       "  'road': <gensim.models.keyedvectors.Vocab at 0x25388d4f518>,\n",
       "  'pilgrimage': <gensim.models.keyedvectors.Vocab at 0x25388d4f550>,\n",
       "  'quiet': <gensim.models.keyedvectors.Vocab at 0x25388d4f588>,\n",
       "  'best': <gensim.models.keyedvectors.Vocab at 0x25388d4f5c0>,\n",
       "  'evocation': <gensim.models.keyedvectors.Vocab at 0x25388d4f5f8>,\n",
       "  'men': <gensim.models.keyedvectors.Vocab at 0x25388d4f630>,\n",
       "  'holiday': <gensim.models.keyedvectors.Vocab at 0x25388d4f668>,\n",
       "  'themed': <gensim.models.keyedvectors.Vocab at 0x25388d4f6a0>,\n",
       "  'submerged': <gensim.models.keyedvectors.Vocab at 0x25388d4f6d8>,\n",
       "  ...}]"
      ]
     },
     "execution_count": 203,
     "metadata": {},
     "output_type": "execute_result"
    }
   ],
   "source": [
    "vocab = [w2v.wv.vocab]\n",
    "vocab[:2]"
   ]
  },
  {
   "cell_type": "code",
   "execution_count": 199,
   "metadata": {},
   "outputs": [
    {
     "data": {
      "text/plain": [
       "[('soundtrack', 0.8326591849327087),\n",
       " ('song', 0.8015882968902588),\n",
       " ('lyric', 0.7475755214691162),\n",
       " ('tune', 0.7139605283737183),\n",
       " ('score', 0.7014411687850952),\n",
       " ('catchy', 0.6980379819869995),\n",
       " ('singing', 0.6906015872955322),\n",
       " ('dancing', 0.6647820472717285),\n",
       " ('scenery', 0.6613697409629822),\n",
       " ('dance', 0.6560667157173157)]"
      ]
     },
     "execution_count": 199,
     "metadata": {},
     "output_type": "execute_result"
    }
   ],
   "source": [
    "w2v.wv.most_similar('music')"
   ]
  },
  {
   "cell_type": "code",
   "execution_count": 205,
   "metadata": {},
   "outputs": [
    {
     "data": {
      "text/plain": [
       "[('actress', 0.7588638067245483),\n",
       " ('performer', 0.7114489078521729),\n",
       " ('casting', 0.6735978126525879),\n",
       " ('talent', 0.6031596660614014),\n",
       " ('professional', 0.5955723524093628),\n",
       " ('comedian', 0.5948448181152344),\n",
       " ('talented', 0.5722163319587708),\n",
       " ('acting', 0.565491795539856),\n",
       " ('role', 0.565075695514679),\n",
       " ('cast', 0.5590618252754211)]"
      ]
     },
     "execution_count": 205,
     "metadata": {},
     "output_type": "execute_result"
    }
   ],
   "source": [
    "w2v.wv.most_similar('actor')"
   ]
  },
  {
   "cell_type": "markdown",
   "metadata": {},
   "source": [
    "---"
   ]
  },
  {
   "cell_type": "markdown",
   "metadata": {},
   "source": [
    "### Working with Test Data"
   ]
  },
  {
   "cell_type": "code",
   "execution_count": 10,
   "metadata": {
    "scrolled": true
   },
   "outputs": [
    {
     "data": {
      "text/plain": [
       "0    naturally film main theme mortality nostalgia ...\n",
       "1    movie disaster within disaster film full great...\n",
       "2    movie kid saw tonight child loved one point ki...\n",
       "Name: cleaned_review, dtype: object"
      ]
     },
     "execution_count": 10,
     "metadata": {},
     "output_type": "execute_result"
    }
   ],
   "source": [
    "#Clearn test review data\n",
    "df_test['cleaned_review'] = df_test['review'].apply(lambda x: clean_text(x))\n",
    "df_test['cleaned_review'].head(3)"
   ]
  },
  {
   "cell_type": "code",
   "execution_count": 14,
   "metadata": {},
   "outputs": [
    {
     "name": "stdout",
     "output_type": "stream",
     "text": [
      "Average length of Review:  123.35284\n"
     ]
    }
   ],
   "source": [
    "#Average length of review\n",
    "AvgLength  = df_train['cleaned_review'].apply(lambda x: len(x.split(' '))).mean()\n",
    "print('Average length of Review: ', AvgLength)"
   ]
  },
  {
   "cell_type": "code",
   "execution_count": 12,
   "metadata": {},
   "outputs": [],
   "source": [
    "#Preprocess cleaned review for modelling\n",
    "tokenizer = Tokenizer(num_words = 6000)\n",
    "tokenizer.fit_on_texts(df_train['cleaned_review'])"
   ]
  },
  {
   "cell_type": "code",
   "execution_count": 15,
   "metadata": {},
   "outputs": [],
   "source": [
    "#Sequence Train and Test review\n",
    "train_sequence = tokenizer.texts_to_sequences(df_train['cleaned_review'])\n",
    "test_sequence = tokenizer.texts_to_sequences(df_test['cleaned_review'])"
   ]
  },
  {
   "cell_type": "code",
   "execution_count": 16,
   "metadata": {},
   "outputs": [],
   "source": [
    "#Pad Sequence for equal length of review\n",
    "X_train = pad_sequences(train_sequence, maxlen=130)\n",
    "X_test = pad_sequences(test_sequence, maxlen=130)"
   ]
  },
  {
   "cell_type": "code",
   "execution_count": 17,
   "metadata": {},
   "outputs": [],
   "source": [
    "#Set up target value\n",
    "y_train = df_train['sentiment']"
   ]
  },
  {
   "cell_type": "code",
   "execution_count": 18,
   "metadata": {},
   "outputs": [
    {
     "data": {
      "text/plain": [
       "((25000, 130), (25000,))"
      ]
     },
     "execution_count": 18,
     "metadata": {},
     "output_type": "execute_result"
    }
   ],
   "source": [
    "#Review shape of training set\n",
    "X_train.shape, y_train.shape"
   ]
  },
  {
   "cell_type": "code",
   "execution_count": 19,
   "metadata": {},
   "outputs": [
    {
     "data": {
      "text/plain": [
       "(25000, 130)"
      ]
     },
     "execution_count": 19,
     "metadata": {},
     "output_type": "execute_result"
    }
   ],
   "source": [
    "#Review test set\n",
    "X_test.shape"
   ]
  },
  {
   "cell_type": "markdown",
   "metadata": {},
   "source": [
    "## Building the NN Model"
   ]
  },
  {
   "cell_type": "code",
   "execution_count": 22,
   "metadata": {},
   "outputs": [
    {
     "name": "stdout",
     "output_type": "stream",
     "text": [
      "Model: \"sequential_2\"\n",
      "_________________________________________________________________\n",
      "Layer (type)                 Output Shape              Param #   \n",
      "=================================================================\n",
      "embedding_2 (Embedding)      (None, None, 128)         768000    \n",
      "_________________________________________________________________\n",
      "bidirectional_2 (Bidirection (None, None, 128)         98816     \n",
      "_________________________________________________________________\n",
      "dense_3 (Dense)              (None, None, 128)         16512     \n",
      "_________________________________________________________________\n",
      "global_max_pooling1d_2 (Glob (None, 128)               0         \n",
      "_________________________________________________________________\n",
      "dense_4 (Dense)              (None, 1)                 129       \n",
      "=================================================================\n",
      "Total params: 883,457\n",
      "Trainable params: 883,457\n",
      "Non-trainable params: 0\n",
      "_________________________________________________________________\n"
     ]
    }
   ],
   "source": [
    "model = Sequential()\n",
    "\n",
    "#Add embedding layer\n",
    "model.add(Embedding(6000, 128))\n",
    "\n",
    "#Add Bidrectional RNN Layer\n",
    "model.add(Bidirectional(LSTM(64, return_sequences=True)))\n",
    "\n",
    "#Add Dense Layer\n",
    "model.add(Dense(128, activation='relu'))\n",
    "\n",
    "#Add MaxPooling Layer\n",
    "model.add(GlobalMaxPool1D())\n",
    "\n",
    "#Add Output Layer\n",
    "model.add(Dense(1, activation='sigmoid'))\n",
    "\n",
    "#Compile the model\n",
    "model.compile(loss='binary_crossentropy', optimizer='adam', metrics=['accuracy'])\n",
    "\n",
    "model.summary()"
   ]
  },
  {
   "cell_type": "code",
   "execution_count": 23,
   "metadata": {},
   "outputs": [
    {
     "name": "stderr",
     "output_type": "stream",
     "text": [
      "C:\\Users\\rajas\\AppData\\Roaming\\Python\\Python37\\site-packages\\tensorflow_core\\python\\framework\\indexed_slices.py:424: UserWarning: Converting sparse IndexedSlices to a dense Tensor of unknown shape. This may consume a large amount of memory.\n",
      "  \"Converting sparse IndexedSlices to a dense Tensor of unknown shape. \"\n"
     ]
    },
    {
     "name": "stdout",
     "output_type": "stream",
     "text": [
      "Train on 20000 samples, validate on 5000 samples\n",
      "Epoch 1/3\n",
      "20000/20000 [==============================] - 212s 11ms/step - loss: 0.4032 - accuracy: 0.8098 - val_loss: 0.2997 - val_accuracy: 0.8702\n",
      "Epoch 2/3\n",
      "20000/20000 [==============================] - 197s 10ms/step - loss: 0.2276 - accuracy: 0.9115 - val_loss: 0.3107 - val_accuracy: 0.8708\n",
      "Epoch 3/3\n",
      "20000/20000 [==============================] - 197s 10ms/step - loss: 0.1811 - accuracy: 0.9317 - val_loss: 0.3598 - val_accuracy: 0.8620\n"
     ]
    },
    {
     "data": {
      "text/plain": [
       "<keras.callbacks.callbacks.History at 0x253eeea6198>"
      ]
     },
     "execution_count": 23,
     "metadata": {},
     "output_type": "execute_result"
    }
   ],
   "source": [
    "#Fit the model\n",
    "model.fit(X_train, y_train, batch_size=100, epochs=3, validation_split=0.2)"
   ]
  },
  {
   "cell_type": "code",
   "execution_count": 26,
   "metadata": {},
   "outputs": [],
   "source": [
    "sentiment_prediction = model.predict(X_train)"
   ]
  },
  {
   "cell_type": "code",
   "execution_count": 32,
   "metadata": {},
   "outputs": [],
   "source": [
    "#Evaluating model prediction\n",
    "from sklearn.metrics import f1_score, accuracy_score, confusion_matrix, roc_auc_score, roc_curve"
   ]
  },
  {
   "cell_type": "code",
   "execution_count": 28,
   "metadata": {},
   "outputs": [
    {
     "data": {
      "text/plain": [
       "array([[False],\n",
       "       [ True],\n",
       "       [False],\n",
       "       [False],\n",
       "       [ True]])"
      ]
     },
     "execution_count": 28,
     "metadata": {},
     "output_type": "execute_result"
    }
   ],
   "source": [
    "prediction = (sentiment_prediction)>0.5\n",
    "prediction[:5]"
   ]
  },
  {
   "cell_type": "code",
   "execution_count": 29,
   "metadata": {},
   "outputs": [
    {
     "data": {
      "text/plain": [
       "0.9429608186896075"
      ]
     },
     "execution_count": 29,
     "metadata": {},
     "output_type": "execute_result"
    }
   ],
   "source": [
    "#F1 Score\n",
    "f1_score(y_train, prediction)"
   ]
  },
  {
   "cell_type": "code",
   "execution_count": 30,
   "metadata": {},
   "outputs": [
    {
     "data": {
      "text/plain": [
       "0.94404"
      ]
     },
     "execution_count": 30,
     "metadata": {},
     "output_type": "execute_result"
    }
   ],
   "source": [
    "#Model Accuracy\n",
    "accuracy_score(y_train, prediction)"
   ]
  },
  {
   "cell_type": "code",
   "execution_count": 31,
   "metadata": {},
   "outputs": [
    {
     "data": {
      "text/plain": [
       "array([[12037,   463],\n",
       "       [  936, 11564]], dtype=int64)"
      ]
     },
     "execution_count": 31,
     "metadata": {},
     "output_type": "execute_result"
    }
   ],
   "source": [
    "#Plotting Confusion Matrix\n",
    "confusion_matrix(y_train, prediction)"
   ]
  },
  {
   "cell_type": "code",
   "execution_count": 33,
   "metadata": {},
   "outputs": [
    {
     "data": {
      "text/plain": [
       "0.9440400000000001"
      ]
     },
     "execution_count": 33,
     "metadata": {},
     "output_type": "execute_result"
    }
   ],
   "source": [
    "#Plot roc curve\n",
    "roc_auc_score(y_train, prediction)"
   ]
  },
  {
   "cell_type": "code",
   "execution_count": 34,
   "metadata": {},
   "outputs": [
    {
     "data": {
      "text/plain": [
       "(array([0.     , 0.03704, 1.     ]),\n",
       " array([0.     , 0.92512, 1.     ]),\n",
       " array([2, 1, 0]))"
      ]
     },
     "execution_count": 34,
     "metadata": {},
     "output_type": "execute_result"
    }
   ],
   "source": [
    "roc_curve(y_train, prediction)"
   ]
  },
  {
   "cell_type": "code",
   "execution_count": 37,
   "metadata": {},
   "outputs": [],
   "source": [
    "import matplotlib.pyplot as plt\n",
    "%matplotlib inline"
   ]
  },
  {
   "cell_type": "code",
   "execution_count": 48,
   "metadata": {},
   "outputs": [
    {
     "data": {
      "image/png": "[encoded data removed]",
      "text/plain": [
       "<Figure size 576x432 with 1 Axes>"
      ]
     },
     "metadata": {
      "needs_background": "light"
     },
     "output_type": "display_data"
    }
   ],
   "source": [
    "plt.figure(figsize=(8,6))\n",
    "fpr, tpr, _ = roc_curve(y_train, prediction)\n",
    "plt.plot(fpr, tpr)\n",
    "plt.xlabel('True Positive Rate')\n",
    "plt.ylabel('False Positive Rate')\n",
    "plt.show();"
   ]
  },
  {
   "cell_type": "code",
   "execution_count": null,
   "metadata": {},
   "outputs": [],
   "source": []
  },
  {
   "cell_type": "markdown",
   "metadata": {},
   "source": [
    "### Word Embedding"
   ]
  },
  {
   "cell_type": "code",
   "execution_count": 143,
   "metadata": {},
   "outputs": [],
   "source": [
    "from sklearn.feature_extraction.text import CountVectorizer, TfidfVectorizer\n",
    "\n",
    "vectorizer = TfidfVectorizer()\n",
    "data = ['This is a sample text']\n",
    "word_embed = vectorizer.fit_transform(data)"
   ]
  },
  {
   "cell_type": "code",
   "execution_count": 144,
   "metadata": {},
   "outputs": [
    {
     "name": "stdout",
     "output_type": "stream",
     "text": [
      "[[0.5 0.5 0.5 0.5]]\n"
     ]
    }
   ],
   "source": [
    "print(word_embed.toarray())"
   ]
  },
  {
   "cell_type": "code",
   "execution_count": 145,
   "metadata": {},
   "outputs": [
    {
     "name": "stdout",
     "output_type": "stream",
     "text": [
      "['is', 'sample', 'text', 'this']\n"
     ]
    }
   ],
   "source": [
    "vocab = vectorizer.fit(data)\n",
    "print(vocab.get_feature_names())"
   ]
  },
  {
   "cell_type": "code",
   "execution_count": 174,
   "metadata": {},
   "outputs": [],
   "source": [
    "data = 'This is a sample text'"
   ]
  },
  {
   "cell_type": "code",
   "execution_count": 172,
   "metadata": {},
   "outputs": [],
   "source": [
    "import nltk\n",
    "import gensim\n",
    "from gensim.models.word2vec import LineSentence"
   ]
  },
  {
   "cell_type": "code",
   "execution_count": 180,
   "metadata": {},
   "outputs": [
    {
     "data": {
      "text/plain": [
       "[['This', 'is', 'a', 'sample', 'text'], ['This', 'is', 'a', 'sample', 'text']]"
      ]
     },
     "execution_count": 180,
     "metadata": {},
     "output_type": "execute_result"
    }
   ],
   "source": [
    "data = 'This is a sample text'\n",
    "data=data.split(' ')\n",
    "data = [data, data]\n",
    "data"
   ]
  },
  {
   "cell_type": "code",
   "execution_count": 181,
   "metadata": {},
   "outputs": [],
   "source": [
    "model= gensim.models.Word2Vec(sentences=data, min_count=1)"
   ]
  },
  {
   "cell_type": "code",
   "execution_count": 182,
   "metadata": {},
   "outputs": [
    {
     "data": {
      "text/plain": [
       "{'This': <gensim.models.keyedvectors.Vocab at 0x253fb022358>,\n",
       " 'is': <gensim.models.keyedvectors.Vocab at 0x253fb022d68>,\n",
       " 'a': <gensim.models.keyedvectors.Vocab at 0x253fb022e48>,\n",
       " 'sample': <gensim.models.keyedvectors.Vocab at 0x253fb022588>,\n",
       " 'text': <gensim.models.keyedvectors.Vocab at 0x253fb022ac8>}"
      ]
     },
     "execution_count": 182,
     "metadata": {},
     "output_type": "execute_result"
    }
   ],
   "source": [
    "model.wv.vocab"
   ]
  },
  {
   "cell_type": "code",
   "execution_count": 183,
   "metadata": {},
   "outputs": [
    {
     "data": {
      "text/plain": [
       "[('sample', 0.02002655155956745),\n",
       " ('a', -0.06037051975727081),\n",
       " ('This', -0.0755176693201065),\n",
       " ('text', -0.21062900125980377)]"
      ]
     },
     "execution_count": 183,
     "metadata": {},
     "output_type": "execute_result"
    }
   ],
   "source": [
    "model.wv.most_similar('is')"
   ]
  },
  {
   "cell_type": "code",
   "execution_count": 155,
   "metadata": {},
   "outputs": [
    {
     "name": "stdout",
     "output_type": "stream",
     "text": [
      "[('w', 0.36052533984184265), ('t', 0.31728971004486084), ('ù', 0.28967294096946716), ('s', 0.2755500078201294), ('ï', 0.27182328701019287), ('½', 0.23744148015975952), ('ä', 0.21943676471710205), ('c', 0.1989104449748993), ('å', 0.17435164749622345), ('ø', 0.17289087176322937)]\n"
     ]
    },
    {
     "name": "stderr",
     "output_type": "stream",
     "text": [
      "C:\\ProgramData\\Anaconda3\\lib\\site-packages\\ipykernel_launcher.py:1: DeprecationWarning: Call to deprecated `most_similar` (Method will be removed in 4.0.0, use self.wv.most_similar() instead).\n",
      "  \"\"\"Entry point for launching an IPython kernel.\n"
     ]
    }
   ],
   "source": [
    "data=model.most_similar('g')\n",
    "print(data)"
   ]
  },
  {
   "cell_type": "code",
   "execution_count": null,
   "metadata": {},
   "outputs": [],
   "source": []
  },
  {
   "cell_type": "code",
   "execution_count": 206,
   "metadata": {},
   "outputs": [
    {
     "name": "stdout",
     "output_type": "stream",
     "text": [
      "Model: \"sequential_3\"\n",
      "_________________________________________________________________\n",
      "Layer (type)                 Output Shape              Param #   \n",
      "=================================================================\n",
      "embedding_3 (Embedding)      (None, None, 256)         6540800   \n",
      "_________________________________________________________________\n",
      "bidirectional_3 (Bidirection (None, None, 128)         164352    \n",
      "_________________________________________________________________\n",
      "dense_5 (Dense)              (None, None, 128)         16512     \n",
      "_________________________________________________________________\n",
      "global_max_pooling1d_3 (Glob (None, 128)               0         \n",
      "_________________________________________________________________\n",
      "dense_6 (Dense)              (None, 1)                 129       \n",
      "=================================================================\n",
      "Total params: 6,721,793\n",
      "Trainable params: 180,993\n",
      "Non-trainable params: 6,540,800\n",
      "_________________________________________________________________\n"
     ]
    }
   ],
   "source": [
    "model = Sequential()\n",
    "\n",
    "#Add embedding layer\n",
    "# model.add(Embedding(6000, 128))\n",
    "\n",
    "model.add(Embedding( \n",
    "        input_dim = w2v.wv.vectors.shape[0], \n",
    "        output_dim = w2v.wv.vectors.shape[1],  \n",
    "        weights = [w2v.wv.vectors], \n",
    "        trainable=False)) \n",
    "\n",
    "#Add Bidrectional RNN Layer\n",
    "model.add(Bidirectional(LSTM(64, return_sequences=True)))\n",
    "\n",
    "#Add Dense Layer\n",
    "model.add(Dense(128, activation='relu'))\n",
    "\n",
    "#Add MaxPooling Layer\n",
    "model.add(GlobalMaxPool1D())\n",
    "\n",
    "#Add Output Layer\n",
    "model.add(Dense(1, activation='sigmoid'))\n",
    "\n",
    "#Compile the model\n",
    "model.compile(loss='binary_crossentropy', optimizer='adam', metrics=['accuracy'])\n",
    "\n",
    "model.summary()"
   ]
  },
  {
   "cell_type": "code",
   "execution_count": 207,
   "metadata": {},
   "outputs": [
    {
     "name": "stdout",
     "output_type": "stream",
     "text": [
      "Train on 18750 samples, validate on 6250 samples\n",
      "Epoch 1/4\n",
      "18750/18750 [==============================] - 231s 12ms/step - loss: 0.5787 - accuracy: 0.6855 - val_loss: 0.5023 - val_accuracy: 0.7531\n",
      "Epoch 2/4\n",
      "18750/18750 [==============================] - 239s 13ms/step - loss: 0.4538 - accuracy: 0.7856 - val_loss: 0.4796 - val_accuracy: 0.7666\n",
      "Epoch 3/4\n",
      "18750/18750 [==============================] - 251s 13ms/step - loss: 0.4084 - accuracy: 0.8127 - val_loss: 0.4367 - val_accuracy: 0.7954\n",
      "Epoch 4/4\n",
      "18750/18750 [==============================] - 289s 15ms/step - loss: 0.3669 - accuracy: 0.8363 - val_loss: 0.4013 - val_accuracy: 0.8147\n"
     ]
    },
    {
     "data": {
      "text/plain": [
       "<keras.callbacks.callbacks.History at 0x253fedb9208>"
      ]
     },
     "execution_count": 207,
     "metadata": {},
     "output_type": "execute_result"
    }
   ],
   "source": [
    "model.fit(X_train, y_train, batch_size=200, epochs=4, validation_split=0.25)"
   ]
  },
  {
   "cell_type": "code",
   "execution_count": 208,
   "metadata": {},
   "outputs": [],
   "source": [
    "pred_test = model.predict(X_test)"
   ]
  },
  {
   "cell_type": "code",
   "execution_count": 209,
   "metadata": {},
   "outputs": [],
   "source": [
    "pred_train = model.predict(X_train)"
   ]
  },
  {
   "cell_type": "code",
   "execution_count": 210,
   "metadata": {},
   "outputs": [],
   "source": [
    "pred = pred_train>0.5"
   ]
  },
  {
   "cell_type": "code",
   "execution_count": 211,
   "metadata": {},
   "outputs": [
    {
     "data": {
      "text/plain": [
       "array([[False],\n",
       "       [ True],\n",
       "       [False],\n",
       "       [False],\n",
       "       [False]])"
      ]
     },
     "execution_count": 211,
     "metadata": {},
     "output_type": "execute_result"
    }
   ],
   "source": [
    "pred[:5]"
   ]
  },
  {
   "cell_type": "code",
   "execution_count": 212,
   "metadata": {},
   "outputs": [
    {
     "data": {
      "text/plain": [
       "0.85248"
      ]
     },
     "execution_count": 212,
     "metadata": {},
     "output_type": "execute_result"
    }
   ],
   "source": [
    "#Plot roc curve\n",
    "roc_auc_score(y_train, pred)"
   ]
  },
  {
   "cell_type": "code",
   "execution_count": 215,
   "metadata": {},
   "outputs": [
    {
     "data": {
      "text/plain": [
       "{'name': 'sequential_3',\n",
       " 'layers': [{'class_name': 'Embedding',\n",
       "   'config': {'name': 'embedding_3',\n",
       "    'trainable': False,\n",
       "    'batch_input_shape': (None, None),\n",
       "    'dtype': 'float32',\n",
       "    'input_dim': 25550,\n",
       "    'output_dim': 256,\n",
       "    'embeddings_initializer': {'class_name': 'RandomUniform',\n",
       "     'config': {'minval': -0.05, 'maxval': 0.05, 'seed': None}},\n",
       "    'embeddings_regularizer': None,\n",
       "    'activity_regularizer': None,\n",
       "    'embeddings_constraint': None,\n",
       "    'mask_zero': False,\n",
       "    'input_length': None}},\n",
       "  {'class_name': 'Bidirectional',\n",
       "   'config': {'name': 'bidirectional_3',\n",
       "    'trainable': True,\n",
       "    'dtype': 'float32',\n",
       "    'layer': {'class_name': 'LSTM',\n",
       "     'config': {'name': 'lstm_3',\n",
       "      'trainable': True,\n",
       "      'dtype': 'float32',\n",
       "      'return_sequences': True,\n",
       "      'return_state': False,\n",
       "      'go_backwards': False,\n",
       "      'stateful': False,\n",
       "      'unroll': False,\n",
       "      'units': 64,\n",
       "      'activation': 'tanh',\n",
       "      'recurrent_activation': 'sigmoid',\n",
       "      'use_bias': True,\n",
       "      'kernel_initializer': {'class_name': 'VarianceScaling',\n",
       "       'config': {'scale': 1.0,\n",
       "        'mode': 'fan_avg',\n",
       "        'distribution': 'uniform',\n",
       "        'seed': None}},\n",
       "      'recurrent_initializer': {'class_name': 'Orthogonal',\n",
       "       'config': {'gain': 1.0, 'seed': None}},\n",
       "      'bias_initializer': {'class_name': 'Zeros', 'config': {}},\n",
       "      'unit_forget_bias': True,\n",
       "      'kernel_regularizer': None,\n",
       "      'recurrent_regularizer': None,\n",
       "      'bias_regularizer': None,\n",
       "      'activity_regularizer': None,\n",
       "      'kernel_constraint': None,\n",
       "      'recurrent_constraint': None,\n",
       "      'bias_constraint': None,\n",
       "      'dropout': 0.0,\n",
       "      'recurrent_dropout': 0.0,\n",
       "      'implementation': 2}},\n",
       "    'merge_mode': 'concat'}},\n",
       "  {'class_name': 'Dense',\n",
       "   'config': {'name': 'dense_5',\n",
       "    'trainable': True,\n",
       "    'dtype': 'float32',\n",
       "    'units': 128,\n",
       "    'activation': 'relu',\n",
       "    'use_bias': True,\n",
       "    'kernel_initializer': {'class_name': 'VarianceScaling',\n",
       "     'config': {'scale': 1.0,\n",
       "      'mode': 'fan_avg',\n",
       "      'distribution': 'uniform',\n",
       "      'seed': None}},\n",
       "    'bias_initializer': {'class_name': 'Zeros', 'config': {}},\n",
       "    'kernel_regularizer': None,\n",
       "    'bias_regularizer': None,\n",
       "    'activity_regularizer': None,\n",
       "    'kernel_constraint': None,\n",
       "    'bias_constraint': None}},\n",
       "  {'class_name': 'GlobalMaxPooling1D',\n",
       "   'config': {'name': 'global_max_pooling1d_3',\n",
       "    'trainable': True,\n",
       "    'dtype': 'float32',\n",
       "    'data_format': 'channels_last'}},\n",
       "  {'class_name': 'Dense',\n",
       "   'config': {'name': 'dense_6',\n",
       "    'trainable': True,\n",
       "    'dtype': 'float32',\n",
       "    'units': 1,\n",
       "    'activation': 'sigmoid',\n",
       "    'use_bias': True,\n",
       "    'kernel_initializer': {'class_name': 'VarianceScaling',\n",
       "     'config': {'scale': 1.0,\n",
       "      'mode': 'fan_avg',\n",
       "      'distribution': 'uniform',\n",
       "      'seed': None}},\n",
       "    'bias_initializer': {'class_name': 'Zeros', 'config': {}},\n",
       "    'kernel_regularizer': None,\n",
       "    'bias_regularizer': None,\n",
       "    'activity_regularizer': None,\n",
       "    'kernel_constraint': None,\n",
       "    'bias_constraint': None}}]}"
      ]
     },
     "execution_count": 215,
     "metadata": {},
     "output_type": "execute_result"
    }
   ],
   "source": [
    "model.get_config()"
   ]
  },
  {
   "cell_type": "code",
   "execution_count": 216,
   "metadata": {},
   "outputs": [],
   "source": [
    "from keras.callbacks import EarlyStopping, ReduceLROnPlateau"
   ]
  },
  {
   "cell_type": "code",
   "execution_count": 217,
   "metadata": {},
   "outputs": [],
   "source": [
    "learning_rate_reduction = ReduceLROnPlateau(monitor='val_acc',  \n",
    "                                            patience=3,  \n",
    "                                            verbose=1,  \n",
    "                                            factor=0.5,  \n",
    "                                            min_lr=0.00001)"
   ]
  },
  {
   "cell_type": "code",
   "execution_count": 221,
   "metadata": {},
   "outputs": [
    {
     "data": {
      "text/plain": [
       "-inf"
      ]
     },
     "execution_count": 221,
     "metadata": {},
     "output_type": "execute_result"
    }
   ],
   "source": [
    "learning_rate_reduction.best"
   ]
  },
  {
   "cell_type": "code",
   "execution_count": null,
   "metadata": {},
   "outputs": [],
   "source": []
  },
  {
   "cell_type": "code",
   "execution_count": null,
   "metadata": {},
   "outputs": [],
   "source": []
  }
 ],
 "metadata": {
  "kernelspec": {
   "display_name": "Python 3",
   "language": "python",
   "name": "python3"
  },
  "language_info": {
   "codemirror_mode": {
    "name": "ipython",
    "version": 3
   },
   "file_extension": ".py",
   "mimetype": "text/x-python",
   "name": "python",
   "nbconvert_exporter": "python",
   "pygments_lexer": "ipython3",
   "version": "3.7.3"
  }
 },
 "nbformat": 4,
 "nbformat_minor": 2
}
